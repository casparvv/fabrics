{
 "cells": [
  {
   "cell_type": "markdown",
   "id": "11a47aef",
   "metadata": {},
   "source": [
    "## Tutorial on the pullback operation with collision avoidance spec\n",
    "\n",
    "---"
   ]
  },
  {
   "cell_type": "code",
   "execution_count": 1,
   "id": "d206eb30-fc47-4e4a-a90a-abd06e38f9a3",
   "metadata": {
    "tags": []
   },
   "outputs": [],
   "source": [
    "import casadi as ca\n",
    "import numpy as np\n",
    "from fabrics.diffGeometry.spec import Spec"
   ]
  },
  {
   "cell_type": "markdown",
   "id": "47ec64fb-6dfb-4ebf-a0ca-e8299fcd331a",
   "metadata": {},
   "source": [
    "#### 1. Simple collision avoidance spec\n",
    "\n",
    "We will create a simple spec that describes collision avoidance behavior.\\\n",
    "$\\mathbf{x}$ here is the distance to the obstacle, and the spec is defined on the task space $\\mathcal{X}$.\n",
    "\n",
    "Spec $(\\mathbf{M}, \\mathbf{f})_\\mathcal{X}$:\n",
    "\n",
    "\\begin{align}\n",
    "\\mathbf{M}\\ddot{\\mathbf{x}} + \\mathbf{f} = \\mathbf{0} \\\\\n",
    "with: \\\\\n",
    "\\mathbf{M} &= \\begin{pmatrix} 1 \\end{pmatrix} \\\\\n",
    "\\mathbf{f} &= \\begin{pmatrix} \\frac{-3}{\\mathbf{x}} \\dot{\\mathbf{x}}^2 \\end{pmatrix} \\\\\n",
    "\\end{align}\n"
   ]
  },
  {
   "cell_type": "code",
   "execution_count": 2,
   "id": "993178ac-59b1-458c-8089-0b553ba3edb4",
   "metadata": {
    "tags": []
   },
   "outputs": [
    {
     "name": "stderr",
     "output_type": "stream",
     "text": [
      "WARNING:root:Casadi pseudo inverse is used in weighted geometry\n",
      "WARNING:root:Casadi pseudo inverse is used in weighted geometry\n"
     ]
    },
    {
     "name": "stdout",
     "output_type": "stream",
     "text": [
      "M: 1\n",
      "f: ((-3/x_o)*sq(xdot_o))\n",
      "h: (0.999999*((-3/x_o)*sq(xdot_o)))\n"
     ]
    }
   ],
   "source": [
    "x_o = ca.SX.sym('x_o', 1)\n",
    "xdot_o = ca.SX.sym('xdot_o', 1)\n",
    "M = ca.SX([[1.0]])\n",
    "f = ca.vcat([-3.0/x_o[0] * xdot_o**2])\n",
    "simple_spec = Spec(M, f=f, x=x_o, xdot=xdot_o)\n",
    "simple_spec.concretize()\n",
    "\n",
    "print(f\"M: {simple_spec.M()}\")\n",
    "print(f\"f: {simple_spec.f()}\")\n",
    "print(f\"h: {simple_spec.h()}\")"
   ]
  },
  {
   "cell_type": "code",
   "execution_count": 3,
   "id": "fbc12483",
   "metadata": {},
   "outputs": [
    {
     "name": "stderr",
     "output_type": "stream",
     "text": [
      "WARNING:root:Casadi pseudo inverse is used in weighted geometry\n",
      "WARNING:root:Casadi pseudo inverse is used in weighted geometry\n",
      "WARNING:root:Casadi pseudo inverse is used in weighted geometry\n",
      "WARNING:root:Casadi pseudo inverse is used in weighted geometry\n",
      "WARNING:root:Casadi pseudo inverse is used in weighted geometry\n",
      "WARNING:root:Casadi pseudo inverse is used in weighted geometry\n",
      "WARNING:root:Casadi pseudo inverse is used in weighted geometry\n",
      "WARNING:root:Casadi pseudo inverse is used in weighted geometry\n",
      "WARNING:root:Casadi pseudo inverse is used in weighted geometry\n",
      "WARNING:root:Casadi pseudo inverse is used in weighted geometry\n",
      "WARNING:root:Casadi pseudo inverse is used in weighted geometry\n",
      "WARNING:root:Casadi pseudo inverse is used in weighted geometry\n"
     ]
    },
    {
     "name": "stdout",
     "output_type": "stream",
     "text": [
      "M: 10\n",
      "f: @1=((-3/x_o10)*sq(xdot_o10)), (((((((((@1+@1)+@1)+@1)+@1)+@1)+@1)+@1)+@1)+@1)\n",
      "h: @1=((-3/x_o10)*sq(xdot_o10)), (0.1*(((((((((@1+@1)+@1)+@1)+@1)+@1)+@1)+@1)+@1)+@1))\n"
     ]
    }
   ],
   "source": [
    "## Summing multiple obstacles by multiplying M and f by n_obs\n",
    "#x_o10 = ca.SX.sym('x_o10', 1)\n",
    "#xdot_o10 = ca.SX.sym('xdot_o10', 1)\n",
    "#M10 = ca.SX([[1.0]])*10\n",
    "#f10 = ca.vcat([-3.0/x_o10[0] * xdot_o10**2])*10\n",
    "#simple_spec10 = Spec(M10, f=f10, x=x_o10, xdot=xdot_o10)\n",
    "#simple_spec10.concretize()\n",
    "\n",
    "# Using the built in __add__ function\n",
    "x_o10 = ca.SX.sym('x_o10', 1)\n",
    "xdot_o10 = ca.SX.sym('xdot_o10', 1)\n",
    "M10 = ca.SX([[1.0]])\n",
    "f10 = ca.vcat([-3.0/x_o10[0] * xdot_o10**2])\n",
    "simple_spec10 = Spec(M10, f=f10, x=x_o10, xdot=xdot_o10)\n",
    "simple_spec10.concretize()\n",
    "\n",
    "simple_spec1 = Spec(M10, f=f10, x=x_o10, xdot=xdot_o10)\n",
    "simple_spec1.concretize()\n",
    "\n",
    "for i in range(9):\n",
    "    simple_spec10 = simple_spec10.__add__(simple_spec1)\n",
    "    simple_spec10.concretize()\n",
    "\n",
    "print(f\"M: {simple_spec10.M()}\")\n",
    "print(f\"f: {simple_spec10.f()}\")\n",
    "print(f\"h: {simple_spec10.h()}\")"
   ]
  },
  {
   "cell_type": "markdown",
   "id": "9ea4252a-c2c8-485b-9541-a3d294b25810",
   "metadata": {},
   "source": [
    "#### 2. Obstacle\n",
    "\n",
    "Let us first define an sphere obstacle with the following position and radius:\n",
    "\n",
    "\\begin{align}\n",
    "\\mathbf{q}_{obs} &= \\begin{pmatrix} 1 \\\\ 0 \\end{pmatrix} \\\\\n",
    "r_{obs} &= 0.5\n",
    "\\end{align}\n"
   ]
  },
  {
   "cell_type": "code",
   "execution_count": 4,
   "id": "31c08209-30e6-4902-b354-79d8a1beef88",
   "metadata": {},
   "outputs": [],
   "source": [
    "from mpscenes.obstacles.sphere_obstacle import SphereObstacle\n",
    "circle_dict = {\n",
    "    'type': 'SphereObstacle',\n",
    "    'geometry': {\n",
    "        'position': [1.0, 0.0],\n",
    "        'radius': 0.5,\n",
    "    }\n",
    "}\n",
    "obstacle = SphereObstacle(name=\"CircleObstacle\", content_dict = circle_dict)"
   ]
  },
  {
   "cell_type": "markdown",
   "id": "b6530c0c",
   "metadata": {},
   "source": [
    "#### 3. Differential map obstacle\n",
    "\n",
    "Now we need to create a differential map $\\phi: \\mathcal{Q} \\rightarrow \\mathcal{X}$ between distance task space $\\mathcal{X}$ and robot configuration space $\\mathcal{Q}$.\n",
    "\n",
    "\\begin{align}\n",
    "\\phi(\\mathbf{q}) = \\frac{||\\mathbf{q} - \\mathbf{q}_{obs}||_2}{r_{obs}} - 1\n",
    "\\end{align}\n"
   ]
  },
  {
   "cell_type": "code",
   "execution_count": 5,
   "id": "28de53a5-d62d-448b-ad6b-92abd0fb1c37",
   "metadata": {},
   "outputs": [],
   "source": [
    "from fabrics.diffGeometry.diffMap import DifferentialMap\n",
    "from fabrics.helpers.variables import Variables\n",
    "x = ca.SX.sym('x', 2)\n",
    "xdot = ca.SX.sym('xdot', 2)\n",
    "variables = Variables(state_variables={'x': x, 'xdot': xdot})\n",
    "phi = ca.norm_2(x - obstacle.position())/obstacle.radius() - 1\n",
    "diff_map = DifferentialMap(phi, variables)"
   ]
  },
  {
   "cell_type": "markdown",
   "id": "b8d991f5-de90-4c62-a628-51b41e226826",
   "metadata": {},
   "source": [
    "#### 4. Pullback operation\n",
    "\n",
    "Using the differential map $\\phi$, the spec can be pulled to the configuration space as $(\\mathbf{M}, \\mathbf{f})_\\mathcal{Q}$ from the task space as $(\\mathbf{M}, \\mathbf{f})_\\mathcal{X}$ using the pullback operation:\n",
    "\n",
    "\\begin{align}\n",
    "(\\mathbf{M}, \\mathbf{f})_\\mathcal{Q} = pull_{\\phi} (\\mathbf{M}, \\mathbf{f})_\\mathcal{X} = \\left(\\mathbf{J}^T\\mathbf{M}\\mathbf{J}, \\mathbf{J}^T(\\mathbf{f} + \\mathbf{M}\\mathbf{\\dot{J}}\\mathbf{\\dot{q}})\\right)\n",
    "\\end{align}\n",
    "\n",
    "The pullback operation is derived using the differential map's Jacobian $\\mathbf{J} = \\partial_{\\mathbf{q}}\\phi $ and $\\ddot{\\mathbf{x}} = \\mathbf{J}\\mathbf{\\ddot{q}} + \\mathbf{\\dot{J}}\\mathbf{\\dot{q}}$ as follows:\n",
    "\\begin{align}\n",
    "pull_{\\phi} (\\mathbf{M}, \\mathbf{f})_\\mathcal{X} = \\mathbf{J}^T(\\mathbf{M}\\ddot{\\mathbf{x}} + \\mathbf{f}) &= \\mathbf{J}^T\\left(\\mathbf{M}(\\mathbf{J}\\mathbf{\\ddot{q}} + \\mathbf{\\dot{J}}\\mathbf{\\dot{q}}) + \\mathbf{f}\\right) \\\\\n",
    "&= (\\mathbf{J}^T\\mathbf{M}\\mathbf{J})\\mathbf{\\ddot{q}} + \\mathbf{J}^T(\\mathbf{f} + \\mathbf{M}\\mathbf{\\dot{J}}\\mathbf{\\dot{q}})\n",
    "\\end{align}\n",
    "\n",
    "In the next cell, the simple collision avoidance spec is pulled back to the configuration space and rewriten in the motion policy form with concretize."
   ]
  },
  {
   "cell_type": "code",
   "execution_count": 6,
   "id": "6fca20be-1433-414b-984e-a39d78901825",
   "metadata": {
    "tags": []
   },
   "outputs": [
    {
     "name": "stderr",
     "output_type": "stream",
     "text": [
      "WARNING:root:Casadi pseudo inverse is used in weighted geometry\n",
      "WARNING:root:Casadi pseudo inverse is used in weighted geometry\n"
     ]
    }
   ],
   "source": [
    "pulled_spec = simple_spec.pull(diff_map)\n",
    "pulled_spec.concretize()\n",
    "\n",
    "pulled_spec10 = simple_spec10.pull(diff_map)\n",
    "pulled_spec10.concretize()"
   ]
  },
  {
   "cell_type": "markdown",
   "id": "f79502a7-f0cf-4e20-8bb6-110120c9324a",
   "metadata": {},
   "source": [
    "### Planar simulation of simple collision avoidance spec\n",
    "\n",
    "Test the spec inside a planar simulation environment.\\\n",
    "The spec produces a trajectory which will be visualized by the environment."
   ]
  },
  {
   "cell_type": "code",
   "execution_count": 7,
   "id": "70792bdf-365f-40ce-8902-fcef5af5ea36",
   "metadata": {},
   "outputs": [
    {
     "name": "stderr",
     "output_type": "stream",
     "text": [
      "\n"
     ]
    }
   ],
   "source": [
    "import gym\n",
    "import numpy as np\n",
    "import planarenvs.point_robot\n",
    "import sys\n",
    "\n",
    "if not sys.warnoptions:\n",
    "    import warnings\n",
    "    warnings.simplefilter(\"ignore\")"
   ]
  },
  {
   "cell_type": "markdown",
   "id": "5723cd49-dfca-4bab-9481-6204f375fbf2",
   "metadata": {},
   "source": [
    "#### 1. Run the simulation to create the first trajectory"
   ]
  },
  {
   "cell_type": "code",
   "execution_count": 8,
   "id": "7bfc5d70",
   "metadata": {},
   "outputs": [],
   "source": [
    "# 1 obstacle spec\n",
    "env = gym.make(\"point-robot-acc-v0\", render=False, dt=0.01)\n",
    "init_pos = np.array([-1.0, 0.2])\n",
    "init_vel = np.array([1.1, 0.0])\n",
    "ob = env.reset(pos=init_pos, vel=init_vel)\n",
    "env.add_obstacle(obstacle)\n",
    "n_steps = 1000\n",
    "positions_1 = np.zeros((n_steps, 2))\n",
    "actions_1 = np.zeros((n_steps, 2))\n",
    "for i in range(n_steps):\n",
    "    x = ob['joint_state']['position']\n",
    "    positions_1[i] = x\n",
    "    xdot = ob['joint_state']['velocity']\n",
    "    M, h, action = pulled_spec.evaluate(x=x, xdot=xdot)\n",
    "    actions_1[i] = action\n",
    "    ob, _, _, _ = env.step(action)\n",
    "env.close()"
   ]
  },
  {
   "cell_type": "markdown",
   "id": "4085968f",
   "metadata": {},
   "source": [
    "#### 2. Run the simulation to create the second trajectory"
   ]
  },
  {
   "cell_type": "code",
   "execution_count": 9,
   "id": "cbb03dc3",
   "metadata": {},
   "outputs": [],
   "source": [
    "# 10 obstacles spec\n",
    "env = gym.make(\"point-robot-acc-v0\", render=False, dt=0.01)\n",
    "init_pos = np.array([-1.0, 0.2])\n",
    "init_vel = np.array([1.1, 0.0 ])\n",
    "ob = env.reset(pos=init_pos, vel=init_vel)\n",
    "env.add_obstacle(obstacle)\n",
    "n_steps = 1000\n",
    "positions_10 = np.zeros((n_steps, 2))\n",
    "actions_10 = np.zeros((n_steps, 2))\n",
    "for i in range(n_steps):\n",
    "    x = ob['joint_state']['position']\n",
    "    positions_10[i] = x\n",
    "    xdot = ob['joint_state']['velocity']\n",
    "    M, h, action = pulled_spec10.evaluate(x=x, xdot=xdot)\n",
    "    actions_10[i] = action\n",
    "    ob, _, _, _ = env.step(action)\n",
    "env.close()"
   ]
  },
  {
   "cell_type": "markdown",
   "id": "84fd3d6f-c24f-4bf7-ab6b-993b6beee54b",
   "metadata": {},
   "source": [
    "#### 2. Visualize the trajectories"
   ]
  },
  {
   "cell_type": "code",
   "execution_count": 10,
   "id": "a76efcc8",
   "metadata": {},
   "outputs": [
    {
     "data": {
      "image/png": "[encoded data removed]",
      "text/plain": [
       "<Figure size 640x480 with 2 Axes>"
      ]
     },
     "metadata": {},
     "output_type": "display_data"
    }
   ],
   "source": [
    "import matplotlib.pyplot as plt\n",
    "fig, axs = plt.subplots(1, 2)\n",
    "for m, subplot in np.ndenumerate(axs):\n",
    "    subplot.set_xlim(-4, 4)\n",
    "    subplot.set_ylim(-6, 6)\n",
    "\n",
    "# Baseline + 1 obstacle spec\n",
    "axs[0].plot(positions_1[:,0], positions_1[:,1])\n",
    "initial_location = plt.Circle((positions_1[:,0][0], positions_1[:,1][0]), radius=0.05, color='y')\n",
    "obst1 = plt.Circle(obstacle.position(), radius=obstacle.radius(), color='r')\n",
    "axs[0].add_patch(initial_location)\n",
    "axs[0].add_patch(obst1)\n",
    "\n",
    "# Baseline + 10 obstacles spec\n",
    "axs[1].plot(positions_10[:,0], positions_10[:,1])\n",
    "initial_location = plt.Circle((positions_10[:,0][0], positions_10[:,1][0]), radius=0.05, color='y')\n",
    "obst1 = plt.Circle(obstacle.position(), radius=obstacle.radius(), color='r')\n",
    "axs[1].add_patch(initial_location)\n",
    "axs[1].add_patch(obst1)\n",
    "plt.show()\n",
    "\n",
    "x_1_obs_last = np.array((positions_1[:,0][-1], positions_1[:,1][-1]))\n",
    "x_10_obs_last = np.array((positions_10[:,0][-1], positions_10[:,1][-1]))"
   ]
  },
  {
   "cell_type": "code",
   "execution_count": 11,
   "id": "32cc8a6a",
   "metadata": {},
   "outputs": [
    {
     "name": "stdout",
     "output_type": "stream",
     "text": [
      "Last position 1 obstacle   : [-1.78284238e+120  2.90328076e+120]\n",
      "Last position 10 obstacles : [-1.90977905e+121  2.85398927e+121]\n",
      "--------------------------------------------------------\n",
      "Last action 1 obstacle     : [-9.50960949e+124  1.54833412e+125]\n",
      "Last action 10 obstacles   : [-1.03904599e+126  1.50356918e+126]\n",
      "--------------------------------------------------------\n",
      "Action 10, 1 obstacle     : [-1.67925776  0.17765515]\n",
      "Action 10, 10 obstacles   : [-1.67470706  0.17725823]\n",
      "--------------------------------------------------------\n",
      "Average action 1 obstacle   : [-1.18862884e+122  1.93534085e+122]\n",
      "Average action 10 obstacles : [-1.28982379e+123  1.88304075e+123]\n",
      "--------------------------------------------------------\n",
      "7.944387426184459\n"
     ]
    }
   ],
   "source": [
    "print(f\"Last position 1 obstacle   : {x_1_obs_last}\")\n",
    "print(f\"Last position 10 obstacles : {x_10_obs_last}\")\n",
    "print(\"--------------------------------------------------------\")\n",
    "print(f\"Last action 1 obstacle     : {actions_1[-1]}\")\n",
    "print(f\"Last action 10 obstacles   : {actions_10[-1]}\")\n",
    "print(\"--------------------------------------------------------\")\n",
    "print(f\"Action 10, 1 obstacle     : {actions_1[10]}\")\n",
    "print(f\"Action 10, 10 obstacles   : {actions_10[10]}\")\n",
    "print(\"--------------------------------------------------------\")\n",
    "print(f\"Average action 1 obstacle   : {np.average((actions_1), axis=0)}\")\n",
    "print(f\"Average action 10 obstacles : {np.average((actions_10), axis=0)}\")\n",
    "print(\"--------------------------------------------------------\")\n",
    "print(np.mean(actions_10) / np.mean(actions_1))"
   ]
  },
  {
   "cell_type": "code",
   "execution_count": null,
   "id": "27fea5d5",
   "metadata": {},
   "outputs": [],
   "source": []
  }
 ],
 "metadata": {
  "kernelspec": {
   "display_name": "Python 3 (ipykernel)",
   "language": "python",
   "name": "python3"
  },
  "language_info": {
   "codemirror_mode": {
    "name": "ipython",
    "version": 3
   },
   "file_extension": ".py",
   "mimetype": "text/x-python",
   "name": "python",
   "nbconvert_exporter": "python",
   "pygments_lexer": "ipython3",
   "version": "3.8.10"
  }
 },
 "nbformat": 4,
 "nbformat_minor": 5
}
