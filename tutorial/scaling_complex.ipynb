{
 "cells": [
  {
   "cell_type": "markdown",
   "id": "11a47aef",
   "metadata": {},
   "source": [
    "## Scaling factor\n",
    "\n",
    "---"
   ]
  },
  {
   "cell_type": "code",
   "execution_count": 1,
   "id": "d206eb30-fc47-4e4a-a90a-abd06e38f9a3",
   "metadata": {
    "tags": []
   },
   "outputs": [],
   "source": [
    "import casadi as ca\n",
    "import numpy as np\n",
    "from fabrics.diffGeometry.spec import Spec\n",
    "from fabrics.diffGeometry.diffMap import DifferentialMap\n",
    "from fabrics.helpers.variables import Variables"
   ]
  },
  {
   "cell_type": "markdown",
   "id": "e71a6e7d",
   "metadata": {},
   "source": [
    "#### 1. Define obstacle"
   ]
  },
  {
   "cell_type": "code",
   "execution_count": 2,
   "id": "84a983c8",
   "metadata": {},
   "outputs": [],
   "source": [
    "from mpscenes.obstacles.sphere_obstacle import SphereObstacle\n",
    "circle_dict = {\n",
    "    'type': 'SphereObstacle',\n",
    "    'geometry': {\n",
    "        'position': [1.0, 0.0],\n",
    "        'radius': 0.5,\n",
    "    }\n",
    "}\n",
    "obstacle = SphereObstacle(name=\"CircleObstacle\", content_dict = circle_dict)"
   ]
  },
  {
   "cell_type": "markdown",
   "id": "c6144367",
   "metadata": {},
   "source": [
    "#### 2. Define action and configuration space"
   ]
  },
  {
   "cell_type": "code",
   "execution_count": 3,
   "id": "3c041b05",
   "metadata": {},
   "outputs": [],
   "source": [
    "x_o = ca.SX.sym('x_o', 1)\n",
    "xdot_o = ca.SX.sym('xdot_o', 1)\n",
    "\n",
    "x = ca.SX.sym('x', 2)\n",
    "xdot = ca.SX.sym('xdot', 2)\n",
    "variables = Variables(state_variables={'x': x, 'xdot': xdot})"
   ]
  },
  {
   "cell_type": "markdown",
   "id": "11e73b3b",
   "metadata": {},
   "source": [
    "#### 3. Create baseline spec in configuration space"
   ]
  },
  {
   "cell_type": "code",
   "execution_count": 4,
   "id": "69390d51",
   "metadata": {},
   "outputs": [],
   "source": [
    "#h_b = ca.vcat([x[0]*0, x[1]*0])\n",
    "#lambda_b = 1\n",
    "\n",
    "#Le_b = lambda_b / 2 * ca.mtimes(ca.transpose(x), x)\n",
    "#Me_b = ca.jacobian(ca.jacobian(Le_b, xdot), xdot)\n",
    "\n",
    "#spec_b = Spec(Me_b, h=h_b, x=x, xdot=xdot)\n",
    "#spec_b.concretize()"
   ]
  },
  {
   "cell_type": "markdown",
   "id": "e411db23",
   "metadata": {},
   "source": [
    "#### 4. Create collision spec in state space, pulled back to configuration space"
   ]
  },
  {
   "cell_type": "code",
   "execution_count": 5,
   "id": "993178ac-59b1-458c-8089-0b553ba3edb4",
   "metadata": {
    "tags": []
   },
   "outputs": [
    {
     "name": "stderr",
     "output_type": "stream",
     "text": [
      "WARNING:root:Casadi pseudo inverse is used in weighted geometry\n"
     ]
    }
   ],
   "source": [
    "phi_o = (ca.norm_2(x - obstacle.position()) / obstacle.radius() - 1)**2\n",
    "psi_o = 1 / (phi_o)\n",
    "der_psi_o = ca.jacobian(psi_o, x_o)\n",
    "h_o = xdot_o**2 * der_psi_o\n",
    "\n",
    "Le_o = 0.5 * (ca.heaviside(-xdot_o)) * (1/x_o) * xdot_o**2\n",
    "Me_o = ca.jacobian(ca.jacobian(Le_o, xdot_o), xdot_o)\n",
    "\n",
    "spec_o = Spec(Me_o, h=h_o, x=x_o, xdot=xdot_o)\n",
    "\n",
    "diff_map_o = DifferentialMap(phi_o, variables)\n",
    "pulled_spec_o = spec_o.pull(diff_map_o)\n",
    "pulled_spec_o.concretize()"
   ]
  },
  {
   "cell_type": "markdown",
   "id": "dd23458c",
   "metadata": {},
   "source": [
    "#### 4. Sum together all specs, with `n_obs` number of obstacle specs"
   ]
  },
  {
   "cell_type": "code",
   "execution_count": 6,
   "id": "10377b28",
   "metadata": {},
   "outputs": [
    {
     "name": "stderr",
     "output_type": "stream",
     "text": [
      "WARNING:root:Casadi pseudo inverse is used in weighted geometry\n",
      "WARNING:root:Casadi pseudo inverse is used in weighted geometry\n",
      "WARNING:root:Casadi pseudo inverse is used in weighted geometry\n",
      "WARNING:root:Casadi pseudo inverse is used in weighted geometry\n",
      "WARNING:root:Casadi pseudo inverse is used in weighted geometry\n"
     ]
    }
   ],
   "source": [
    "def collision_spec_summator(n_obs=1):\n",
    "    #he = spec_b.h() + n_obs * pulled_spec_o.h()\n",
    "    #Le = Le_b + n_obs * Le_o\n",
    "    he = n_obs * pulled_spec_o.h()\n",
    "    Le = n_obs * Le_o\n",
    "    Me = ca.jacobian(ca.jacobian(Le, xdot), xdot)\n",
    "\n",
    "    spec = Spec(Me, h=he, x=x, xdot=xdot)\n",
    "    spec.concretize()\n",
    "    return spec\n",
    "\n",
    "n_obs = 5\n",
    "specs = {}\n",
    "all_positions = {}\n",
    "for n_ob in range(n_obs):\n",
    "    specs[f\"spec{n_ob}\"] = collision_spec_summator(n_ob + 1)\n",
    "    all_positions[f\"spec{n_ob}\"] = 0"
   ]
  },
  {
   "cell_type": "markdown",
   "id": "f79502a7-f0cf-4e20-8bb6-110120c9324a",
   "metadata": {},
   "source": [
    "### Planar simulation of simple collision avoidance spec\n",
    "\n",
    "Test the spec inside a planar simulation environment.\\\n",
    "The spec produces a trajectory which will be visualized by the environment."
   ]
  },
  {
   "cell_type": "code",
   "execution_count": 7,
   "id": "70792bdf-365f-40ce-8902-fcef5af5ea36",
   "metadata": {},
   "outputs": [
    {
     "name": "stderr",
     "output_type": "stream",
     "text": [
      "\n"
     ]
    }
   ],
   "source": [
    "import gym\n",
    "import numpy as np\n",
    "import planarenvs.point_robot\n",
    "import sys\n",
    "\n",
    "if not sys.warnoptions:\n",
    "    import warnings\n",
    "    warnings.simplefilter(\"ignore\")"
   ]
  },
  {
   "cell_type": "markdown",
   "id": "5723cd49-dfca-4bab-9481-6204f375fbf2",
   "metadata": {},
   "source": [
    "#### 1. Run the simulation to create the trajectory"
   ]
  },
  {
   "cell_type": "code",
   "execution_count": 8,
   "id": "fd7b3cdc-1022-4052-b018-dfced7e50f94",
   "metadata": {
    "tags": []
   },
   "outputs": [],
   "source": [
    "def spec_simulator(spec):\n",
    "    env = gym.make(\"point-robot-acc-v0\", render=False, dt=0.01)\n",
    "    init_pos = np.array([-1.0, 0.1])\n",
    "    init_vel = np.array([1.3, 0.0])\n",
    "    ob = env.reset(pos=init_pos, vel=init_vel)\n",
    "    env.add_obstacle(obstacle)\n",
    "    n_steps = 1000\n",
    "    positions = np.zeros((n_steps, 2))\n",
    "    for i in range(n_steps):\n",
    "        x = ob['joint_state']['position']\n",
    "        positions[i] = x\n",
    "        xdot = ob['joint_state']['velocity']\n",
    "        M, h, action = spec.evaluate(x=x, xdot=xdot)\n",
    "        ob, _, _, _ = env.step(action)\n",
    "    env.close()\n",
    "    return positions\n",
    "\n",
    "for spec in specs:\n",
    "    all_positions[f'{spec}'] = spec_simulator(specs[f'{spec}'])\n",
    "    \n",
    "positions = all_positions['spec0']"
   ]
  },
  {
   "cell_type": "markdown",
   "id": "84fd3d6f-c24f-4bf7-ab6b-993b6beee54b",
   "metadata": {},
   "source": [
    "#### 2. Visualize the trajectory"
   ]
  },
  {
   "cell_type": "code",
   "execution_count": 9,
   "id": "8265f420-ce01-45f5-b9ee-95694e6270ec",
   "metadata": {
    "tags": []
   },
   "outputs": [
    {
     "data": {
      "image/png": "[encoded data removed]",
      "text/plain": [
       "<Figure size 1000x200 with 5 Axes>"
      ]
     },
     "metadata": {},
     "output_type": "display_data"
    }
   ],
   "source": [
    "import matplotlib.pyplot as plt\n",
    "fig, axs = plt.subplots(1, n_obs, sharex=True, sharey=True, figsize = (n_obs*2, 1*2))\n",
    "n = 0\n",
    "for spec in specs:\n",
    "    axs[n].plot(all_positions[f'{spec}'][:,0], all_positions[f'{spec}'][:,1])\n",
    "    obst = plt.Circle(obstacle.position(), radius=obstacle.radius(), color='r')\n",
    "    axs[n].add_patch(obst)\n",
    "    axs[n].grid(linestyle='-', linewidth=0.3, alpha=0.8)\n",
    "    axs[n].title.set_text(f'{n + 1} obstacle(s)')\n",
    "    n += 1\n",
    "plt.show()"
   ]
  },
  {
   "cell_type": "code",
   "execution_count": null,
   "id": "32cc8a6a",
   "metadata": {},
   "outputs": [],
   "source": []
  }
 ],
 "metadata": {
  "kernelspec": {
   "display_name": "Python 3 (ipykernel)",
   "language": "python",
   "name": "python3"
  },
  "language_info": {
   "codemirror_mode": {
    "name": "ipython",
    "version": 3
   },
   "file_extension": ".py",
   "mimetype": "text/x-python",
   "name": "python",
   "nbconvert_exporter": "python",
   "pygments_lexer": "ipython3",
   "version": "3.8.10"
  }
 },
 "nbformat": 4,
 "nbformat_minor": 5
}
