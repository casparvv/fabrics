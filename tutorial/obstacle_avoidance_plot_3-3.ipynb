{
 "cells": [
  {
   "cell_type": "markdown",
   "id": "2e6f22c5",
   "metadata": {
    "tags": []
   },
   "source": [
    "## Tutorial on collision avoidance with optimization fabrics\n",
    "\n",
    "---\n",
    "\n",
    "This tutorial will walk you through a first trajectory generator with optimization fabrics.\\\n",
    "Let's start by importing the necessary components for fabrics."
   ]
  },
  {
   "cell_type": "code",
   "execution_count": null,
   "id": "d206eb30-fc47-4e4a-a90a-abd06e38f9a3",
   "metadata": {
    "tags": []
   },
   "outputs": [],
   "source": [
    "import casadi as ca\n",
    "import numpy as np\n",
    "from fabrics.diffGeometry.diffMap import DifferentialMap\n",
    "from fabrics.diffGeometry.energy import Lagrangian\n",
    "from fabrics.diffGeometry.geometry import Geometry\n",
    "from fabrics.helpers.variables import Variables\n",
    "from fabrics.diffGeometry.energized_geometry import WeightedGeometry\n",
    "from fabrics.diffGeometry.speedControl import Damper\n",
    "from fabrics.components.energies.execution_energies import ExecutionLagrangian"
   ]
  },
  {
   "cell_type": "markdown",
   "id": "84ca871b-8332-4317-a7b4-055eed31ecef",
   "metadata": {},
   "source": [
    "### Simulation\n",
    "\n",
    "For visualization, we also want to run a simulation of our first planner, using: https://github.com/maxspahn/gym_envs_planar."
   ]
  },
  {
   "cell_type": "code",
   "execution_count": null,
   "id": "7c7011fa-5188-4e9a-954e-355f2d9436c7",
   "metadata": {
    "tags": []
   },
   "outputs": [],
   "source": [
    "import gym\n",
    "import planarenvs.point_robot\n",
    "import sys\n",
    "\n",
    "if not sys.warnoptions:\n",
    "    import warnings\n",
    "    warnings.simplefilter(\"ignore\")\n",
    "\n",
    "def run_environment(\n",
    "        weighted_geometry,\n",
    "        render=False,\n",
    "        dt = 0.001,\n",
    "        T= 20,\n",
    "        obstacles = [],\n",
    "        init_vel = [1.0, 0.1],\n",
    "        init_pos = [1.0, 1.0],\n",
    "    ):\n",
    "    \n",
    "    # Using openai gym interface for the simulation\n",
    "    env = gym.make(\"point-robot-acc-v0\", render=render, dt=dt)\n",
    "    n_steps = int(T/dt)\n",
    "    \n",
    "    positions = []\n",
    "    ob = env.reset(pos=np.array(init_pos), vel=np.array(init_vel))\n",
    "    for obstacle in obstacles:\n",
    "        env.add_obstacle(obstacle)\n",
    "    for i in range(n_steps):\n",
    "        x = ob['joint_state']['position']\n",
    "        xdot = ob['joint_state']['velocity']\n",
    "        positions.append(x)\n",
    "                \n",
    "        # Simple logging to monitor the proces\n",
    "        if i % (1/dt) == 0:\n",
    "            print(f\"Current time : {i * dt}/{T}\")            \n",
    "        \n",
    "        # Use a weighted geometry to compute the action\n",
    "        _, _, xddot, alpha = weighted_geometry.evaluate(q=x,qdot=xdot)\n",
    "        action = xddot - alpha * xdot\n",
    "\n",
    "        # Break if something goes horribly wrong\n",
    "        if np.linalg.norm(action) > 1e5:\n",
    "            print(f\"Breaking due to action magnitude at step {dt*i}, {x}\")\n",
    "            break\n",
    "        if np.any(np.isnan(action)):\n",
    "            print(f\"Breaking due to isnan at step {dt*i}, {x}\")\n",
    "            break\n",
    "        if np.linalg.norm(xdot) > 1.2 * np.linalg.norm(np.array(init_vel)):\n",
    "            print(f\"Breaking due to velocity magnitude at step {dt*i}, {x}, {xdot}\")\n",
    "            break\n",
    "\n",
    "        ob, _, _, _ = env.step(action)\n",
    "    env.close()\n",
    "    return np.array(positions)"
   ]
  },
  {
   "cell_type": "markdown",
   "id": "2139cf45-692e-465a-9b66-f4e776e81ccf",
   "metadata": {},
   "source": [
    "### Visualizations\n",
    "\n",
    "We use matplotlib for visualizations of the trajectories."
   ]
  },
  {
   "cell_type": "code",
   "execution_count": null,
   "id": "8265f420-ce01-45f5-b9ee-95694e6270ec",
   "metadata": {
    "tags": []
   },
   "outputs": [],
   "source": [
    "import matplotlib.pyplot as plt\n",
    "\n",
    "def plot_trajectory(positions, goal=None, obstacles = []):\n",
    "    fig, axs = plt.subplots(1, 1, figsize=(7, 7))\n",
    "    \n",
    "    for obstacle in obstacles:\n",
    "        axs.add_patch(plt.Circle(obstacle.position(), radius=obstacle.radius(), color='#D80032', alpha=0.9, label='Obstacle'))\n",
    "    \n",
    "    if goal:\n",
    "        axs.add_patch(plt.Circle(goal.position(), radius=0.25, color='#00A878', label='Goal position'))\n",
    "    \n",
    "    # Initial position\n",
    "    axs.add_patch(plt.Circle([positions[0,0], positions[0,1]], radius=0.25, color='#F4D35E', label='Initial position'))\n",
    "    \n",
    "    # Trajectory\n",
    "    axs.plot(positions[:,0], positions[:,1], color='#27474E', alpha=0.9, linewidth=3, label='Trajectory')\n",
    "    \n",
    "    # Arrows on trajectory\n",
    "    #m = int(len(positions)/200)\n",
    "    #arrow_width = 0.05; arrow_head_width = 3*arrow_width; arrow_length = 1.5*arrow_head_width\n",
    "    #for n in (n+sum(range(n)) for n in (range (1, m, int(m/4)))):\n",
    "    #    axs.arrow(positions[n, 0], positions[n, 1], positions[n + 1, 0] - positions[n, 0], positions[n + 1, 1] - positions[n, 1],\n",
    "    #                width=arrow_width, head_width=arrow_head_width, head_length=arrow_length, color='#27474E', alpha=0.95)\n",
    "    \n",
    "    \n",
    "    for item in ([axs.title, axs.xaxis.label, axs.yaxis.label] +\n",
    "                axs.get_xticklabels() + axs.get_yticklabels()):\n",
    "        item.set_fontsize(19)\n",
    "    plt.rc('font', size=19)\n",
    "    #axs.axis('equal')\n",
    "    axs.axis('on')\n",
    "    axs.set_xlabel(\"x\")\n",
    "    axs.set_ylabel(\"y\")\n",
    "    axs.legend(loc=2)\n",
    "    axs.set_xlim([0, 6])\n",
    "    axs.set_ylim([0, 6])\n",
    "    return plt"
   ]
  },
  {
   "cell_type": "markdown",
   "id": "18b888ec-8750-4671-b8fe-babf74eaf070",
   "metadata": {
    "tags": []
   },
   "source": [
    "### Base geometry\n",
    "Now, we can start building the planner.\\\n",
    "We define our configuration space variables $\\bf{q} \\in \\mathcal{Q} = \\mathcal{R}^2$ and $\\dot{\\bf{q}} \\in \\mathcal{R}^2$.\n",
    "\n",
    "Then, we define a base geometry using the `Geometry`-class with a zero forcing term $\\bf{h}_b = \\bf{0}$.\\\n",
    "We equip it with a `Lagrangian` with the energy $\\mathcal{L}e_b = \\frac{1}{2}\\dot{\\bf{q}}^T\\dot{\\bf{q}}$.\n",
    "\n",
    "We energize the base fabric $(\\bf{M}_b, \\bf{f}_b)_{\\mathcal{Q}}$ by creating an instance of `WeightedGeometry` by providing the Lagrangian and the geometry.\n",
    "\n",
    "Then, we verify if $\\bf{M}_b = \\begin{bmatrix}1 & 0 \\\\ 0 & 1 \\end{bmatrix}$ and $\\bf{f}_b = \\begin{pmatrix}0 \\\\ 0 \\end{pmatrix}$.\n",
    "\n",
    "> Note that all calculations are done symbolically."
   ]
  },
  {
   "cell_type": "code",
   "execution_count": null,
   "id": "5f32ffb5-6a9d-41fd-9446-c493d9baa8b1",
   "metadata": {
    "tags": []
   },
   "outputs": [],
   "source": [
    "q = ca.SX.sym('q', 2)\n",
    "qdot = ca.SX.sym('qdot', 2)\n",
    "config_variables = Variables(state_variables={'q': q, 'qdot': qdot})\n",
    "geo_b = Geometry(var=config_variables, h=ca.SX(np.zeros(2)))\n",
    "lag_b = Lagrangian(0.5 * ca.norm_2(qdot)**2, var=config_variables)\n",
    "fabric_b = WeightedGeometry(le=lag_b, g=geo_b)\n",
    "print(f\"M={fabric_b.M()}\")\n",
    "print(f\"f={fabric_b.f()}\")"
   ]
  },
  {
   "cell_type": "markdown",
   "id": "067466ee-c6dd-4357-a8f6-5a02244769b6",
   "metadata": {},
   "source": [
    "#### Visualization base geometry\n",
    "We can simulate and visualize that.\\\n",
    "First, we need to turn the symbolic expression into concrete functions using the `concretize` method.\n",
    "\n",
    "> This method is available for most components inside the package and is usually followed by an `evaluate` call.\\\n",
    "See run_environment for that call.\n",
    "\n",
    "What sort of trajectory do you expect when we run it now?"
   ]
  },
  {
   "cell_type": "code",
   "execution_count": null,
   "id": "6df85003-7637-4749-acbe-3ab7d785aaa7",
   "metadata": {
    "tags": []
   },
   "outputs": [],
   "source": [
    "fabric_b.concretize()\n",
    "positions_b = run_environment(fabric_b)"
   ]
  },
  {
   "cell_type": "code",
   "execution_count": null,
   "id": "ce9169cd-dd6a-4adc-8b84-0f477387ecbf",
   "metadata": {
    "tags": []
   },
   "outputs": [],
   "source": [
    "plot_trajectory(positions_b).show()"
   ]
  },
  {
   "cell_type": "markdown",
   "id": "3daddf65-c025-4a35-9e98-e8596d820aa5",
   "metadata": {},
   "source": [
    "### Obstacle geometry\n",
    "\n",
    "Next, we add obstacles to the environment and thus also to the fabric.\\\n",
    "Let us first define some obstacles within the ellipsoid.\\\n",
    "The entries are `[x_obst, y_obst, radius_obst]`."
   ]
  },
  {
   "cell_type": "code",
   "execution_count": null,
   "id": "77c66db9-f510-4c04-820a-d36d342882d1",
   "metadata": {
    "tags": []
   },
   "outputs": [],
   "source": [
    "from mpscenes.obstacles.sphere_obstacle import SphereObstacle\n",
    "obstacle_geometries = [\n",
    "    [3.0, 3.0, 1.0],\n",
    "]"
   ]
  },
  {
   "cell_type": "markdown",
   "id": "6eca5304-8865-4e56-b590-fe531d76b16c",
   "metadata": {},
   "source": [
    "Based on this information, we create a list of `SphereObstacle` from https://github.com/maxspahn/motion_planning_scenes. \\\n",
    "They can be added to the environment for visualization."
   ]
  },
  {
   "cell_type": "code",
   "execution_count": null,
   "id": "6ecf507a-2ee2-4000-8e69-21f85a40dbe9",
   "metadata": {
    "tags": []
   },
   "outputs": [],
   "source": [
    "obstacles = []\n",
    "for obstacle_geometry in obstacle_geometries:\n",
    "    circle_dict = {\n",
    "        'type': 'SphereObstacle',\n",
    "        'geometry': {\n",
    "            'position': obstacle_geometry[0:2],\n",
    "            'radius': obstacle_geometry[2],\n",
    "        }\n",
    "    }\n",
    "    obstacles.append(SphereObstacle(name=\"CircleObstacle\", content_dict = circle_dict))"
   ]
  },
  {
   "cell_type": "markdown",
   "id": "7f01f482-98c0-4cc5-9dcd-23a48c2f0038",
   "metadata": {},
   "source": [
    "Similar to the limit geometry, we define a `DifferentialMap`, a `Geometry` and a `Lagrangian` for all obstacles. "
   ]
  },
  {
   "cell_type": "code",
   "execution_count": null,
   "id": "6d5ccf9f-934b-4ca3-970d-cf273602770b",
   "metadata": {
    "tags": []
   },
   "outputs": [],
   "source": [
    "fabric_o = None\n",
    "for i, obstacle in enumerate(obstacles):\n",
    "    x = ca.SX.sym(f\"x_obst_{i}\", 1)\n",
    "    xdot = ca.SX.sym(f\"xdot_obst_{i}\", 1)\n",
    "    variables = Variables(state_variables = {'x': x, 'xdot': xdot})\n",
    "\n",
    "    h_obst = -2/(x**2) * xdot**2 * (-0.5 * (ca.sign(xdot) - 1))\n",
    "    le = 2/(x**2) * xdot**2\n",
    "\n",
    "    geometry_obstacle = Geometry(var=variables, h=h_obst)\n",
    "    le_obst = Lagrangian(le, var=variables)\n",
    "    weighted_geometry = WeightedGeometry(le=le_obst, g=geometry_obstacle)\n",
    "    phi = ca.norm_2(q - obstacle.position()) / obstacle.radius() - 1\n",
    "    diff_map = DifferentialMap(phi, config_variables)\n",
    "    if fabric_o:\n",
    "        print('adding')\n",
    "        fabric_o += weighted_geometry.pull(diff_map)\n",
    "    else:\n",
    "        print('creating')\n",
    "        fabric_o = weighted_geometry.pull(diff_map)"
   ]
  },
  {
   "cell_type": "code",
   "execution_count": null,
   "id": "562d303b-dd90-47b0-a5cc-a8a8de1542e9",
   "metadata": {
    "tags": []
   },
   "outputs": [],
   "source": [
    "fabric_o_b = fabric_o + fabric_b\n",
    "\n",
    "l_exec = Lagrangian(0.5 * ca.norm_2(qdot)**2, var=config_variables)\n",
    "final_geo = WeightedGeometry(g=Geometry(s=fabric_o_b), le=l_exec)\n",
    "final_geo.concretize()\n",
    "positions_o_b = run_environment(final_geo, T=20)"
   ]
  },
  {
   "cell_type": "code",
   "execution_count": null,
   "id": "9e6ab7d6-c197-4ae5-b698-355636fbf971",
   "metadata": {
    "tags": []
   },
   "outputs": [],
   "source": [
    "plot_trajectory(positions_o_b, obstacles=obstacles).show()"
   ]
  },
  {
   "cell_type": "markdown",
   "id": "cdead469-4420-4d9e-884d-280fdb0bb612",
   "metadata": {
    "tags": []
   },
   "source": [
    "### Forcing the fabric\n",
    "\n",
    "So the great power of fabrics is that we can arbitrarily add different geometries (as we did with the limits and the obstacles) and only in the latest step add the forcing potential.\n",
    "\n",
    "Let's try that out.\\\n",
    "We first define a goal, again from `mpscenes` at https://github.com/maxspahn/motion_planning_scenes."
   ]
  },
  {
   "cell_type": "code",
   "execution_count": null,
   "id": "2d281c6e-e734-4dab-b5bb-e617d19f64ef",
   "metadata": {
    "tags": []
   },
   "outputs": [],
   "source": [
    "from mpscenes.goals.static_sub_goal import StaticSubGoal\n",
    "goal_dict = {\n",
    "        \"weight\": 1.0,\n",
    "        \"is_primary_goal\": True,\n",
    "        \"indices\": [0, 1],\n",
    "        \"parent_link\" : 'origin',\n",
    "        \"child_link\" : 'ee_link',\n",
    "        \"desired_position\": [5, 4],\n",
    "        \"epsilon\" : 0.1,\n",
    "        \"type\": \"staticSubGoal\"\n",
    "    }\n",
    "goal = StaticSubGoal(name=\"goal\", content_dict=goal_dict)\n",
    "\n",
    "psi = ca.norm_2(q-goal.position())**2\n",
    "h_forcing = 1.5 * ca.gradient(psi, q) \n",
    "forcing_geometry = Geometry(var=config_variables, h=h_forcing)"
   ]
  },
  {
   "cell_type": "markdown",
   "id": "d8962067-2f13-4d24-b058-46ebf3457dc4",
   "metadata": {
    "tags": []
   },
   "source": [
    "Now, we add the forcing potential to the final geometry that we have defined earlier.\\\n",
    "Therefore, we change the form of the geometry in the canonical acceleration form $(\\bf{I},\\bf{h})_{\\mathcal{Q}}$.\n",
    "\n",
    "Only then can we add the forcing geometry.\n",
    "\n",
    "> We let the following simulation run a bit longer because it looks nice and with a smaller time step to avoid numerical issues."
   ]
  },
  {
   "cell_type": "code",
   "execution_count": null,
   "id": "f04aed12-b931-4cc6-ae06-bb2fc7707ade",
   "metadata": {
    "scrolled": true,
    "tags": []
   },
   "outputs": [],
   "source": [
    "fabric_tot = fabric_o + fabric_b\n",
    "composed_geometry = Geometry(s=fabric_tot) + forcing_geometry\n",
    "l_exec = Lagrangian(0.5 * ca.norm_2(qdot)**2, var=config_variables)\n",
    "final_geo = WeightedGeometry(g=composed_geometry, le=l_exec)\n",
    "final_geo.concretize()"
   ]
  },
  {
   "cell_type": "markdown",
   "id": "b517201d",
   "metadata": {},
   "source": [
    "To do: add speed control/damping"
   ]
  },
  {
   "cell_type": "code",
   "execution_count": null,
   "id": "0eb864cf",
   "metadata": {},
   "outputs": [],
   "source": [
    "positions = run_environment(final_geo, T=5.2, dt=0.005)"
   ]
  },
  {
   "cell_type": "code",
   "execution_count": null,
   "id": "d7cbae26-5bef-46e5-93ea-85576d0a499f",
   "metadata": {
    "tags": []
   },
   "outputs": [],
   "source": [
    "plot_trajectory(positions, goal=goal, obstacles=obstacles).show()"
   ]
  },
  {
   "cell_type": "markdown",
   "id": "160822d0-6f3f-4824-94d8-3e61c03118a8",
   "metadata": {
    "tags": []
   },
   "source": [
    "---\n",
    "\n",
    "## SUCCESS\n",
    "\n",
    "Nice, you made it!\n",
    "\n",
    "I hope it helped you a bit to understand how to use optimization fabrics and the package `fabrics`.\\\n",
    "The next step is to understand the `ParameterizedFabricPlanner`."
   ]
  }
 ],
 "metadata": {
  "kernelspec": {
   "display_name": "Python 3 (ipykernel)",
   "language": "python",
   "name": "python3"
  },
  "language_info": {
   "codemirror_mode": {
    "name": "ipython",
    "version": 3
   },
   "file_extension": ".py",
   "mimetype": "text/x-python",
   "name": "python",
   "nbconvert_exporter": "python",
   "pygments_lexer": "ipython3",
   "version": "3.8.10"
  }
 },
 "nbformat": 4,
 "nbformat_minor": 5
}
