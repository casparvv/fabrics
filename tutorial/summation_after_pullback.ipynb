{
 "cells": [
  {
   "cell_type": "markdown",
   "id": "11a47aef",
   "metadata": {},
   "source": [
    "## Tutorial on the pullback operation with collision avoidance spec\n",
    "\n",
    "---"
   ]
  },
  {
   "cell_type": "code",
   "execution_count": 1,
   "id": "d206eb30-fc47-4e4a-a90a-abd06e38f9a3",
   "metadata": {
    "tags": []
   },
   "outputs": [],
   "source": [
    "import casadi as ca\n",
    "import numpy as np\n",
    "from fabrics.diffGeometry.spec import Spec"
   ]
  },
  {
   "cell_type": "markdown",
   "id": "47ec64fb-6dfb-4ebf-a0ca-e8299fcd331a",
   "metadata": {},
   "source": [
    "#### 1. Simple collision avoidance spec\n",
    "\n",
    "We will create a simple spec that describes collision avoidance behavior.\\\n",
    "$\\mathbf{x}$ here is the distance to the obstacle, and the spec is defined on the task space $\\mathcal{X}$.\n",
    "\n",
    "Spec $(\\mathbf{M}, \\mathbf{f})_\\mathcal{X}$:\n",
    "\n",
    "\\begin{align}\n",
    "\\mathbf{M}\\ddot{\\mathbf{x}} + \\mathbf{f} = \\mathbf{0} \\\\\n",
    "with: \\\\\n",
    "\\mathbf{M} &= \\begin{pmatrix} 1 \\end{pmatrix} \\\\\n",
    "\\mathbf{f} &= \\begin{pmatrix} \\frac{-3}{\\mathbf{x}} || \\dot{\\mathbf{x}} ||^2_2 \\end{pmatrix} \\\\\n",
    "\\end{align}\n"
   ]
  },
  {
   "cell_type": "code",
   "execution_count": 2,
   "id": "993178ac-59b1-458c-8089-0b553ba3edb4",
   "metadata": {
    "tags": []
   },
   "outputs": [
    {
     "name": "stderr",
     "output_type": "stream",
     "text": [
      "WARNING:root:Casadi pseudo inverse is used in weighted geometry\n"
     ]
    }
   ],
   "source": [
    "x_o = ca.SX.sym('x_o', 1)\n",
    "xdot_o = ca.SX.sym('xdot_o', 1)\n",
    "M = ca.SX([[1.0]])\n",
    "#f = ca.vcat([-3.0/x_o[0] * ca.norm_2(xdot_o)**2])\n",
    "f = ca.vcat([-3.0/x_o[0] * xdot_o**2])\n",
    "simple_spec = Spec(M, f=f, x=x_o, xdot=xdot_o)\n",
    "simple_spec.concretize()"
   ]
  },
  {
   "cell_type": "markdown",
   "id": "9ea4252a-c2c8-485b-9541-a3d294b25810",
   "metadata": {},
   "source": [
    "#### 2. Obstacle\n",
    "\n",
    "Let us first define an sphere obstacle with the following position and radius:\n",
    "\n",
    "\\begin{align}\n",
    "\\mathbf{q}_{obs} &= \\begin{pmatrix} 1 \\\\ 0 \\end{pmatrix} \\\\\n",
    "r_{obs} &= 0.5\n",
    "\\end{align}\n"
   ]
  },
  {
   "cell_type": "code",
   "execution_count": 3,
   "id": "31c08209-30e6-4902-b354-79d8a1beef88",
   "metadata": {},
   "outputs": [],
   "source": [
    "from mpscenes.obstacles.sphere_obstacle import SphereObstacle\n",
    "circle_dict = {\n",
    "    'type': 'SphereObstacle',\n",
    "    'geometry': {\n",
    "        'position': [1.0, 0.0],\n",
    "        'radius': 0.5,\n",
    "    }\n",
    "}\n",
    "obstacle = SphereObstacle(name=\"CircleObstacle\", content_dict = circle_dict)"
   ]
  },
  {
   "cell_type": "markdown",
   "id": "b6530c0c",
   "metadata": {},
   "source": [
    "#### 3. Differential map\n",
    "\n",
    "Now we need to create a differential map $\\phi: \\mathcal{Q} \\rightarrow \\mathcal{X}$ between distance task space $\\mathcal{X}$ and robot configuration space $\\mathcal{Q}$.\n",
    "\n",
    "\\begin{align}\n",
    "\\phi(\\mathbf{q}) = \\frac{||\\mathbf{q} - \\mathbf{q}_{obs}||_2}{r_{obs}} - 1\n",
    "\\end{align}\n"
   ]
  },
  {
   "cell_type": "code",
   "execution_count": 4,
   "id": "28de53a5-d62d-448b-ad6b-92abd0fb1c37",
   "metadata": {},
   "outputs": [],
   "source": [
    "from fabrics.diffGeometry.diffMap import DifferentialMap\n",
    "from fabrics.helpers.variables import Variables\n",
    "x = ca.SX.sym('x', 2)\n",
    "xdot = ca.SX.sym('xdot', 2)\n",
    "variables = Variables(state_variables={'x': x, 'xdot': xdot})\n",
    "phi = ca.norm_2(x - obstacle.position())/obstacle.radius() - 1\n",
    "diff_map = DifferentialMap(phi, variables)"
   ]
  },
  {
   "cell_type": "markdown",
   "id": "b8d991f5-de90-4c62-a628-51b41e226826",
   "metadata": {},
   "source": [
    "#### 4. Pullback operation\n",
    "\n",
    "Using the differential map $\\phi$, the spec can be pulled to the configuration space as $(\\mathbf{M}, \\mathbf{f})_\\mathcal{Q}$ from the task space as $(\\mathbf{M}, \\mathbf{f})_\\mathcal{X}$ using the pullback operation:\n",
    "\n",
    "\\begin{align}\n",
    "(\\mathbf{M}, \\mathbf{f})_\\mathcal{Q} = pull_{\\phi} (\\mathbf{M}, \\mathbf{f})_\\mathcal{X} = \\left(\\mathbf{J}^T\\mathbf{M}\\mathbf{J}, \\mathbf{J}^T(\\mathbf{f} + \\mathbf{M}\\mathbf{\\dot{J}}\\mathbf{\\dot{q}})\\right)\n",
    "\\end{align}\n",
    "\n",
    "The pullback operation is derived using the differential map's Jacobian $\\mathbf{J} = \\partial_{\\mathbf{q}}\\phi $ and $\\ddot{\\mathbf{x}} = \\mathbf{J}\\mathbf{\\ddot{q}} + \\mathbf{\\dot{J}}\\mathbf{\\dot{q}}$ as follows:\n",
    "\\begin{align}\n",
    "pull_{\\phi} (\\mathbf{M}, \\mathbf{f})_\\mathcal{X} = \\mathbf{J}^T(\\mathbf{M}\\ddot{\\mathbf{x}} + \\mathbf{f}) &= \\mathbf{J}^T\\left(\\mathbf{M}(\\mathbf{J}\\mathbf{\\ddot{q}} + \\mathbf{\\dot{J}}\\mathbf{\\dot{q}}) + \\mathbf{f}\\right) \\\\\n",
    "&= (\\mathbf{J}^T\\mathbf{M}\\mathbf{J})\\mathbf{\\ddot{q}} + \\mathbf{J}^T(\\mathbf{f} + \\mathbf{M}\\mathbf{\\dot{J}}\\mathbf{\\dot{q}})\n",
    "\\end{align}\n",
    "\n",
    "In the next cell, the simple collision avoidance spec is pulled back to the configuration space and rewriten in the motion policy form with concretize."
   ]
  },
  {
   "cell_type": "code",
   "execution_count": 5,
   "id": "6fca20be-1433-414b-984e-a39d78901825",
   "metadata": {
    "tags": []
   },
   "outputs": [],
   "source": [
    "pulled_spec = simple_spec.pull(diff_map)\n",
    "\n",
    "M_pulled = pulled_spec.M()\n",
    "f_pulled = pulled_spec.f()"
   ]
  },
  {
   "cell_type": "markdown",
   "id": "2811578a",
   "metadata": {},
   "source": [
    "#### 5. Summation"
   ]
  },
  {
   "cell_type": "code",
   "execution_count": 6,
   "id": "c4d15716",
   "metadata": {},
   "outputs": [
    {
     "name": "stderr",
     "output_type": "stream",
     "text": [
      "WARNING:root:Casadi pseudo inverse is used in weighted geometry\n",
      "WARNING:root:Casadi pseudo inverse is used in weighted geometry\n"
     ]
    }
   ],
   "source": [
    "M_1_obstacle = M_pulled\n",
    "f_1_obstacle = f_pulled\n",
    "\n",
    "combined_pulled_spec_1 = Spec(M_1_obstacle, f=f_1_obstacle, x=x, xdot=xdot)\n",
    "combined_pulled_spec_1.concretize()\n",
    "\n",
    "M_10_obstacle = M_pulled + M_pulled + M_pulled + M_pulled + M_pulled + M_pulled + M_pulled + M_pulled + M_pulled + M_pulled\n",
    "f_10_obstacle = f_pulled + f_pulled + f_pulled + f_pulled + f_pulled + f_pulled + f_pulled + f_pulled + f_pulled + f_pulled\n",
    "\n",
    "combined_pulled_spec_10 = Spec(M_10_obstacle, f=f_10_obstacle, x=x, xdot=xdot)\n",
    "combined_pulled_spec_10.concretize()"
   ]
  },
  {
   "cell_type": "markdown",
   "id": "f79502a7-f0cf-4e20-8bb6-110120c9324a",
   "metadata": {},
   "source": [
    "### Planar simulation of simple collision avoidance spec\n",
    "\n",
    "Test the spec inside a planar simulation environment.\\\n",
    "The spec produces a trajectory which will be visualized by the environment."
   ]
  },
  {
   "cell_type": "code",
   "execution_count": 7,
   "id": "70792bdf-365f-40ce-8902-fcef5af5ea36",
   "metadata": {},
   "outputs": [
    {
     "name": "stderr",
     "output_type": "stream",
     "text": [
      "\n"
     ]
    }
   ],
   "source": [
    "import gym\n",
    "import numpy as np\n",
    "import planarenvs.point_robot\n",
    "import sys\n",
    "\n",
    "if not sys.warnoptions:\n",
    "    import warnings\n",
    "    warnings.simplefilter(\"ignore\")"
   ]
  },
  {
   "cell_type": "markdown",
   "id": "5723cd49-dfca-4bab-9481-6204f375fbf2",
   "metadata": {},
   "source": [
    "#### 1. Run the simulation to create the first trajectory"
   ]
  },
  {
   "cell_type": "code",
   "execution_count": 8,
   "id": "45df3c53",
   "metadata": {},
   "outputs": [],
   "source": [
    "# Baseline + 1 obstacle spec\n",
    "env = gym.make(\"point-robot-acc-v0\", render=False, dt=0.01)\n",
    "init_pos = np.array([-1.0, 0.1])\n",
    "init_vel = np.array([1.4, 0.0])\n",
    "ob = env.reset(pos=init_pos, vel=init_vel)\n",
    "env.add_obstacle(obstacle)\n",
    "n_steps = 1000\n",
    "positions_1 = np.zeros((n_steps, 2))\n",
    "actions_1 = np.zeros((n_steps, 2))\n",
    "for i in range(n_steps):\n",
    "    x = ob['joint_state']['position']\n",
    "    positions_1[i] = x\n",
    "    xdot = ob['joint_state']['velocity']\n",
    "    M, h, action = combined_pulled_spec_1.evaluate(x=x, xdot=xdot)\n",
    "    actions_1[i] = action\n",
    "    ob, _, _, _ = env.step(action)\n",
    "env.close()"
   ]
  },
  {
   "cell_type": "markdown",
   "id": "feea52fd",
   "metadata": {},
   "source": [
    "#### 2. Run the simulation to create the second trajectory"
   ]
  },
  {
   "cell_type": "code",
   "execution_count": 9,
   "id": "5d69e55c",
   "metadata": {},
   "outputs": [],
   "source": [
    "# Baseline + 10 obstacles spec\n",
    "env = gym.make(\"point-robot-acc-v0\", render=False, dt=0.01)\n",
    "init_pos = np.array([-1.0, 0.1])\n",
    "init_vel = np.array([1.4, 0.0])\n",
    "ob = env.reset(pos=init_pos, vel=init_vel)\n",
    "env.add_obstacle(obstacle)\n",
    "n_steps = 1000\n",
    "positions_10 = np.zeros((n_steps, 2))\n",
    "actions_10 = np.zeros((n_steps, 2))\n",
    "for i in range(n_steps):\n",
    "    x = ob['joint_state']['position']\n",
    "    positions_10[i] = x\n",
    "    xdot = ob['joint_state']['velocity']\n",
    "    M, h, action = combined_pulled_spec_10.evaluate(x=x, xdot=xdot)\n",
    "    actions_10[i] = action\n",
    "    ob, _, _, _ = env.step(action)\n",
    "env.close()"
   ]
  },
  {
   "cell_type": "markdown",
   "id": "84fd3d6f-c24f-4bf7-ab6b-993b6beee54b",
   "metadata": {},
   "source": [
    "#### 2. Visualize the trajectories"
   ]
  },
  {
   "cell_type": "code",
   "execution_count": 10,
   "id": "344da9ac",
   "metadata": {},
   "outputs": [
    {
     "data": {
      "image/png": "[encoded data removed]",
      "text/plain": [
       "<Figure size 640x480 with 2 Axes>"
      ]
     },
     "metadata": {},
     "output_type": "display_data"
    }
   ],
   "source": [
    "import matplotlib.pyplot as plt\n",
    "fig, axs = plt.subplots(1, 2)\n",
    "for m, subplot in np.ndenumerate(axs):\n",
    "    subplot.set_xlim(-6, 6)\n",
    "    subplot.set_ylim(-2, 10)\n",
    "\n",
    "# Baseline + 1 obstacle spec\n",
    "axs[0].plot(positions_1[:,0], positions_1[:,1])\n",
    "initial_location = plt.Circle((positions_1[:,0][0], positions_1[:,1][0]), radius=0.05, color='y')\n",
    "obst1 = plt.Circle(obstacle.position(), radius=obstacle.radius(), color='r')\n",
    "axs[0].add_patch(initial_location)\n",
    "axs[0].add_patch(obst1)\n",
    "\n",
    "# Baseline + 10 obstacles spec\n",
    "axs[1].plot(positions_10[:,0], positions_10[:,1])\n",
    "initial_location = plt.Circle((positions_10[:,0][0], positions_10[:,1][0]), radius=0.05, color='y')\n",
    "obst1 = plt.Circle(obstacle.position(), radius=obstacle.radius(), color='r')\n",
    "axs[1].add_patch(initial_location)\n",
    "axs[1].add_patch(obst1)\n",
    "plt.show()\n",
    "\n",
    "x_1_obs_last = np.array((positions_1[:,0][-1], positions_1[:,1][-1]))\n",
    "x_10_obs_last = np.array((positions_10[:,0][-1], positions_10[:,1][-1]))"
   ]
  },
  {
   "cell_type": "code",
   "execution_count": 11,
   "id": "32cc8a6a",
   "metadata": {},
   "outputs": [
    {
     "name": "stdout",
     "output_type": "stream",
     "text": [
      "Last position 1 obstacle   : [-2.7085475   5.21795428]\n",
      "Last position 10 obstacles : [-4.58157302  7.83598063]\n",
      "--------------------------------------------------------\n",
      "Last action 1 obstacle     : [-965.99175739 1358.79115915]\n",
      "Last action 10 obstacles   : [-5345.0355835  7573.1328125]\n",
      "--------------------------------------------------------\n",
      "Average action 1 obstacle   : [-4.4225636   6.02912916]\n",
      "Average action 10 obstacles : [-14.89524246  20.84263688]\n",
      "--------------------------------------------------------\n",
      "3.7019307378652595\n"
     ]
    }
   ],
   "source": [
    "print(f\"Last position 1 obstacle   : {x_1_obs_last}\")\n",
    "print(f\"Last position 10 obstacles : {x_10_obs_last}\")\n",
    "print(\"--------------------------------------------------------\")\n",
    "print(f\"Last action 1 obstacle     : {actions_1[-1]}\")\n",
    "print(f\"Last action 10 obstacles   : {actions_10[-1]}\")\n",
    "print(\"--------------------------------------------------------\")\n",
    "print(f\"Average action 1 obstacle   : {np.average((actions_1), axis=0)}\")\n",
    "print(f\"Average action 10 obstacles : {np.average((actions_10), axis=0)}\")\n",
    "print(\"--------------------------------------------------------\")\n",
    "print(np.mean(actions_10) / np.mean(actions_1))"
   ]
  },
  {
   "cell_type": "code",
   "execution_count": null,
   "id": "22566755",
   "metadata": {},
   "outputs": [],
   "source": []
  }
 ],
 "metadata": {
  "kernelspec": {
   "display_name": "Python 3 (ipykernel)",
   "language": "python",
   "name": "python3"
  },
  "language_info": {
   "codemirror_mode": {
    "name": "ipython",
    "version": 3
   },
   "file_extension": ".py",
   "mimetype": "text/x-python",
   "name": "python",
   "nbconvert_exporter": "python",
   "pygments_lexer": "ipython3",
   "version": "3.8.10"
  }
 },
 "nbformat": 4,
 "nbformat_minor": 5
}
