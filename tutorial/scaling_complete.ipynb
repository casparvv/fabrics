{
 "cells": [
  {
   "cell_type": "markdown",
   "id": "11a47aef",
   "metadata": {},
   "source": [
    "## Scaling factor\n",
    "\n",
    "---"
   ]
  },
  {
   "cell_type": "code",
   "execution_count": 1,
   "id": "d206eb30-fc47-4e4a-a90a-abd06e38f9a3",
   "metadata": {
    "tags": []
   },
   "outputs": [],
   "source": [
    "import casadi as ca\n",
    "import numpy as np\n",
    "from fabrics.diffGeometry.spec import Spec\n",
    "from fabrics.diffGeometry.diffMap import DifferentialMap\n",
    "from fabrics.helpers.variables import Variables"
   ]
  },
  {
   "cell_type": "markdown",
   "id": "5790f36e",
   "metadata": {},
   "source": [
    "#### 1. Define obstacle"
   ]
  },
  {
   "cell_type": "code",
   "execution_count": 2,
   "id": "3769675e",
   "metadata": {},
   "outputs": [],
   "source": [
    "from mpscenes.obstacles.sphere_obstacle import SphereObstacle\n",
    "circle_dict = {\n",
    "    'type': 'SphereObstacle',\n",
    "    'geometry': {\n",
    "        'position': [1.0, 0.0],\n",
    "        'radius': 0.5,\n",
    "    }\n",
    "}\n",
    "obstacle = SphereObstacle(name=\"CircleObstacle\", content_dict = circle_dict)"
   ]
  },
  {
   "cell_type": "markdown",
   "id": "25e3c48b",
   "metadata": {},
   "source": [
    "#### 2. Define action and configuration space"
   ]
  },
  {
   "cell_type": "code",
   "execution_count": 3,
   "id": "f106afff",
   "metadata": {},
   "outputs": [],
   "source": [
    "x_o = ca.SX.sym('x_o', 1)\n",
    "xdot_o = ca.SX.sym('xdot_o', 1)\n",
    "\n",
    "x = ca.SX.sym('x', 2)\n",
    "xdot = ca.SX.sym('xdot', 2)\n",
    "variables = Variables(state_variables={'x': x, 'xdot': xdot})"
   ]
  },
  {
   "cell_type": "markdown",
   "id": "3ae970dc",
   "metadata": {},
   "source": [
    "#### 3. Create baseline spec in configuration space"
   ]
  },
  {
   "cell_type": "code",
   "execution_count": 4,
   "id": "3e6d29fb",
   "metadata": {},
   "outputs": [],
   "source": [
    "h_b = ca.vcat([x[0]*0, x[1]*0])\n",
    "lambda_b = 0.01\n",
    "\n",
    "Le_b = lambda_b / 2 * ca.norm_2(xdot)**2\n",
    "Me_b = ca.jacobian(ca.jacobian(Le_b, xdot), xdot)\n",
    "\n",
    "spec_b = Spec(Me_b, h=h_b, x=x, xdot=xdot)\n",
    "spec_b.concretize()"
   ]
  },
  {
   "cell_type": "markdown",
   "id": "60fc2455",
   "metadata": {},
   "source": [
    "#### 4. Create collision spec in state space, pulled back to configuration space\n",
    "\n",
    "\\begin{align}\n",
    "\\phi_o &= \\left( \\frac{||x - x_o||_2}{r_o} - 1 \\right)^2 \\\\\n",
    "\\psi_o &= \\frac{1}{\\phi_o} \\\\\n",
    "h_o &= \\dot{x}_o^2 \\partial_{x_o}\\psi_o\n",
    "\\end{align}\n",
    "\n",
    "---\n",
    "\n",
    "\\begin{align}\n",
    "\\mathcal{L}_o &= \\frac{1}{2} \\mathcal{H}(-\\dot{x}_o) \\frac{1}{x_o} \\dot{x}_o^2 \\\\\n",
    "M_o &= \\partial_{\\dot{x}_o, \\dot{x}_o}\\mathcal{L}_o\n",
    "\\end{align}\n",
    "\n",
    "---\n",
    "\n",
    "\\begin{align}\n",
    "f &= M_o h_o \\\\\n",
    "\\tilde{h}_o &= \\\\\n",
    "\\tilde{M}_o &= J^T M_o J\n",
    "\\end{align}"
   ]
  },
  {
   "cell_type": "code",
   "execution_count": 5,
   "id": "993178ac-59b1-458c-8089-0b553ba3edb4",
   "metadata": {
    "tags": []
   },
   "outputs": [
    {
     "name": "stderr",
     "output_type": "stream",
     "text": [
      "WARNING:root:Casadi pseudo inverse is used in weighted geometry\n"
     ]
    }
   ],
   "source": [
    "phi_o = (ca.norm_2(x - obstacle.position()) / obstacle.radius() - 1)#**2\n",
    "psi_o = 1 / (x_o)\n",
    "der_psi_o = ca.jacobian(psi_o, x_o)\n",
    "h_o = xdot_o**2 * der_psi_o\n",
    "\n",
    "Le_o = 0.5 * (ca.heaviside(-xdot_o)) * (1/x_o) * xdot_o**2\n",
    "Me_o = ca.jacobian(ca.jacobian(Le_o, xdot_o), xdot_o)\n",
    "\n",
    "spec_o = Spec(Me_o, h=h_o, x=x_o, xdot=xdot_o)\n",
    "spec_o.concretize()\n",
    "\n",
    "diff_map_o = DifferentialMap(phi_o, variables)\n",
    "pulled_spec_o = spec_o.pull(diff_map_o)\n",
    "pulled_spec_o.concretize()"
   ]
  },
  {
   "cell_type": "markdown",
   "id": "a70135e4",
   "metadata": {},
   "source": [
    "#### 4. Sum together all specs, with `n_obs` number of obstacle specs"
   ]
  },
  {
   "cell_type": "code",
   "execution_count": 6,
   "id": "14a2d8ab",
   "metadata": {},
   "outputs": [
    {
     "name": "stderr",
     "output_type": "stream",
     "text": [
      "WARNING:root:Casadi pseudo inverse is used in weighted geometry\n",
      "WARNING:root:Casadi pseudo inverse is used in weighted geometry\n",
      "WARNING:root:Casadi pseudo inverse is used in weighted geometry\n",
      "WARNING:root:Casadi pseudo inverse is used in weighted geometry\n",
      "WARNING:root:Casadi pseudo inverse is used in weighted geometry\n"
     ]
    }
   ],
   "source": [
    "def collision_spec_summator(n_obs = 1):\n",
    "    # Three methods for summation, all similar results\n",
    "    # 1. Pure by summation of f and M terms\n",
    "    fe = spec_b.f() + n_obs * pulled_spec_o._f\n",
    "    Me = spec_b._M + n_obs * pulled_spec_o._M\n",
    "    \n",
    "    #fe = n_obs * pulled_spec_o._f\n",
    "    #Me = n_obs * pulled_spec_o._M\n",
    "    \n",
    "    # 2. Summation of h term and Me from d(Le)d(xddot)\n",
    "    #he = n_obs * pulled_spec_o.h()\n",
    "    #Le = n_obs * Le_o\n",
    "    #Me = ca.jacobian(ca.jacobian(Le, xdot), xdot)\n",
    "    \n",
    "    # 3. Method 2. + baseline\n",
    "    #he = spec_b.h() + n_obs * pulled_spec_o.h()\n",
    "    #Le = Le_b + n_obs * Le_o\n",
    "    #Me = ca.jacobian(ca.jacobian(Le, xdot), xdot)\n",
    "\n",
    "    #spec = Spec(Me, h=he, x=x, xdot=xdot)\n",
    "    spec = Spec(Me, f=fe, x=x, xdot=xdot)\n",
    "    spec.concretize()\n",
    "    return spec\n",
    "\n",
    "n_obs = 5\n",
    "specs = {}\n",
    "all_positions = {}\n",
    "for n_ob in range(n_obs):\n",
    "    specs[f\"spec{n_ob}\"] = collision_spec_summator(n_ob + 1)\n",
    "    all_positions[f\"spec{n_ob}\"] = 0"
   ]
  },
  {
   "cell_type": "code",
   "execution_count": 7,
   "id": "2d6a86de",
   "metadata": {},
   "outputs": [
    {
     "name": "stderr",
     "output_type": "stream",
     "text": [
      "WARNING:root:Casadi pseudo inverse is used in weighted geometry\n",
      "WARNING:root:Casadi pseudo inverse is used in weighted geometry\n",
      "WARNING:root:Casadi pseudo inverse is used in weighted geometry\n",
      "WARNING:root:Casadi pseudo inverse is used in weighted geometry\n",
      "WARNING:root:Casadi pseudo inverse is used in weighted geometry\n",
      "WARNING:root:Casadi pseudo inverse is used in weighted geometry\n",
      "WARNING:root:Casadi pseudo inverse is used in weighted geometry\n",
      "WARNING:root:Casadi pseudo inverse is used in weighted geometry\n",
      "WARNING:root:Casadi pseudo inverse is used in weighted geometry\n",
      "WARNING:root:Casadi pseudo inverse is used in weighted geometry\n"
     ]
    }
   ],
   "source": [
    "n_points = 9\n",
    "radius = 0.1\n",
    "radi = 0.4\n",
    "angles = np.linspace(0, 2*np.pi, n_points, endpoint=False)\n",
    "xs = 1.0 + radi * np.cos(angles)\n",
    "ys = radi * np.sin(angles)\n",
    "obs_positions = np.column_stack((xs, ys))\n",
    "\n",
    "def spec_n_obstacle_creator(obs_position):\n",
    "    x_os[f'{obs_position}'] = ca.SX.sym(f'x_o{obs_position}', 1)\n",
    "    xdot_os[f'{obs_position}'] = ca.SX.sym(f'xdot_o{obs_position}', 1)\n",
    "    phi_os[f'{obs_position}'] = (ca.norm_2(x - obs_position) / radius - 1)\n",
    "    psi_os[f'{obs_position}'] = 1 / (x_os[f'{obs_position}'])\n",
    "    der_psi_os[f'{obs_position}'] = ca.jacobian(psi_os[f'{obs_position}'], x_os[f'{obs_position}'])\n",
    "    h_os[f'{obs_position}'] = xdot_os[f'{obs_position}']**2 * der_psi_os[f'{obs_position}']\n",
    "    Le_os[f'{obs_position}'] = 0.5 * (ca.heaviside(-xdot_os[f'{obs_position}'])) * (1/x_os[f'{obs_position}']) * xdot_os[f'{obs_position}']**2\n",
    "    Me_os[f'{obs_position}'] = ca.jacobian(ca.jacobian(Le_os[f'{obs_position}'], xdot_os[f'{obs_position}']), xdot_os[f'{obs_position}'])\n",
    "    spec_os[f'{obs_position}'] = Spec(Me_os[f'{obs_position}'], h=h_os[f'{obs_position}'], x=x_os[f'{obs_position}'], xdot=xdot_os[f'{obs_position}'])\n",
    "    spec_os[f'{obs_position}'].concretize()\n",
    "    diff_map_os[f'{obs_position}'] = DifferentialMap(phi_os[f'{obs_position}'], variables)\n",
    "    pulled_spec_os[f'{obs_position}'] = spec_os[f'{obs_position}'].pull(diff_map_os[f'{obs_position}'])\n",
    "    pulled_spec_os[f'{obs_position}'].concretize()\n",
    "    \n",
    "    return pulled_spec_os[f'{obs_position}'].f(), pulled_spec_os[f'{obs_position}']._M\n",
    "\n",
    "fe_total = spec_b.f(); Me_total = spec_b._M\n",
    "x_os = {}\n",
    "xdot_os = {}\n",
    "phi_os = {}\n",
    "psi_os = {}\n",
    "der_psi_os = {}\n",
    "h_os = {}\n",
    "Le_os = {}\n",
    "Me_os = {}\n",
    "spec_os = {}\n",
    "diff_map_os = {}\n",
    "pulled_spec_os = {}\n",
    "\n",
    "for obs_position in obs_positions:\n",
    "    fe0, Me0 = spec_n_obstacle_creator(obs_position)\n",
    "    fe_total += fe0\n",
    "    Me_total += Me0\n",
    "\n",
    "specee = Spec(Me_total, f=fe_total, x=x, xdot=xdot)\n",
    "specee.concretize()\n",
    "\n",
    "specs['spec5'] = specee\n",
    "all_positions['spec5'] = 0\n",
    "\n",
    "n_obs += 1"
   ]
  },
  {
   "cell_type": "markdown",
   "id": "f79502a7-f0cf-4e20-8bb6-110120c9324a",
   "metadata": {},
   "source": [
    "### Planar simulation of simple collision avoidance spec\n",
    "\n",
    "Test the spec inside a planar simulation environment.\\\n",
    "The spec produces a trajectory which will be visualized by the environment."
   ]
  },
  {
   "cell_type": "code",
   "execution_count": 8,
   "id": "70792bdf-365f-40ce-8902-fcef5af5ea36",
   "metadata": {},
   "outputs": [
    {
     "name": "stderr",
     "output_type": "stream",
     "text": [
      "\n"
     ]
    }
   ],
   "source": [
    "import gym\n",
    "import numpy as np\n",
    "import planarenvs.point_robot\n",
    "import sys\n",
    "\n",
    "if not sys.warnoptions:\n",
    "    import warnings\n",
    "    warnings.simplefilter(\"ignore\")"
   ]
  },
  {
   "cell_type": "markdown",
   "id": "5723cd49-dfca-4bab-9481-6204f375fbf2",
   "metadata": {},
   "source": [
    "#### 1. Run the simulation to create the trajectory"
   ]
  },
  {
   "cell_type": "code",
   "execution_count": 15,
   "id": "fd7b3cdc-1022-4052-b018-dfced7e50f94",
   "metadata": {
    "tags": []
   },
   "outputs": [
    {
     "name": "stdout",
     "output_type": "stream",
     "text": [
      "M: [[ 1.82199996 -0.36110345]\n",
      " [-0.36110345  0.08196231]]\n",
      "h: [ 0.15667379 -0.03122265]\n",
      "action: [-0.08272272  0.01648535]\n",
      "-----\n",
      "M: [[ 3.63367069 -0.72213308]\n",
      " [-0.72213308  0.15390827]]\n",
      "h: [ 0.313008   -0.06237692]\n",
      "action: [-0.0828594  0.0165124]\n",
      "-----\n",
      "M: [[ 5.44534075 -1.08316256]\n",
      " [-1.08316256  0.2258542 ]]\n",
      "h: [ 0.46934166 -0.09353108]\n",
      "action: [-0.08290504  0.01652144]\n",
      "-----\n",
      "M: [[ 7.25701064 -1.44419201]\n",
      " [-1.44419201  0.29780012]]\n",
      "h: [ 0.62567518 -0.12468522]\n",
      "action: [-0.08292787  0.01652595]\n",
      "-----\n",
      "M: [[ 9.06868046 -1.80522144]\n",
      " [-1.80522144  0.36974604]]\n",
      "h: [ 0.78200865 -0.15583934]\n",
      "action: [-0.08294158  0.01652867]\n",
      "-----\n",
      "M: [[ 59.06424462 -12.29200827]\n",
      " [-12.29200827   4.84072595]]\n",
      "h: [ 2.07306118 -0.65313335]\n",
      "action: [-0.014885   0.0971273]\n",
      "-----\n"
     ]
    }
   ],
   "source": [
    "def spec_simulator(spec):\n",
    "    env = gym.make(\"point-robot-acc-v0\", render=False, dt=0.01)\n",
    "    init_pos = np.array([-1.0, 0.3])\n",
    "    init_vel = np.array([0.5, 0.0])\n",
    "    ob = env.reset(pos=init_pos, vel=init_vel)\n",
    "    env.add_obstacle(obstacle)\n",
    "    n_steps = 1000\n",
    "    positions = np.zeros((n_steps, 2))\n",
    "    for i in range(n_steps):\n",
    "        x = ob['joint_state']['position']\n",
    "        positions[i] = x\n",
    "        xdot = ob['joint_state']['velocity']\n",
    "        M, h, action = spec.evaluate(x=x, xdot=xdot)\n",
    "        if i == 100:\n",
    "            print(f\"M: {M}\")\n",
    "            print(f\"h: {h}\")\n",
    "            print(f\"action: {action}\")\n",
    "            print(\"-----\")\n",
    "        ob, _, _, _ = env.step(action)\n",
    "    env.close()\n",
    "    return positions\n",
    "\n",
    "for spec in specs:\n",
    "    all_positions[f'{spec}'] = spec_simulator(specs[f'{spec}'])"
   ]
  },
  {
   "cell_type": "markdown",
   "id": "84fd3d6f-c24f-4bf7-ab6b-993b6beee54b",
   "metadata": {},
   "source": [
    "#### 2. Visualize the trajectory"
   ]
  },
  {
   "cell_type": "code",
   "execution_count": 16,
   "id": "8265f420-ce01-45f5-b9ee-95694e6270ec",
   "metadata": {
    "tags": []
   },
   "outputs": [
    {
     "data": {
      "image/png": "[encoded data removed]",
      "text/plain": [
       "<Figure size 1200x200 with 6 Axes>"
      ]
     },
     "metadata": {},
     "output_type": "display_data"
    }
   ],
   "source": [
    "import matplotlib.pyplot as plt\n",
    "fig, axs = plt.subplots(1, n_obs, sharex=True, sharey=True, figsize = (n_obs*2, 1*2))\n",
    "n = 0\n",
    "for spec in specs:\n",
    "    axs[n].plot(all_positions[f'{spec}'][:,0], all_positions[f'{spec}'][:,1])\n",
    "    axs[n].grid(linestyle='-', linewidth=0.3, alpha=0.8)\n",
    "    if n == 5:\n",
    "        axs[n].title.set_text(f'{n_points} small obstacle(s)')\n",
    "        obsts = {}\n",
    "        for obs_position in obs_positions:\n",
    "            obsts[f'{str(obs_position)}'] = plt.Circle(obs_position, radius=radius, color='r')\n",
    "            axs[n].add_patch(obsts[f'{str(obs_position)}'])\n",
    "        obst = plt.Circle(obstacle.position(), radius=obstacle.radius(), color='r', alpha=0.1)\n",
    "        axs[n].add_patch(obst)\n",
    "    else:\n",
    "        axs[n].title.set_text(f'{n + 1} obstacle(s)')\n",
    "        obst = plt.Circle(obstacle.position(), radius=obstacle.radius(), color='r')\n",
    "        axs[n].add_patch(obst)\n",
    "    n += 1\n",
    "plt.legend\n",
    "plt.show()\n"
   ]
  },
  {
   "cell_type": "code",
   "execution_count": 11,
   "id": "32cc8a6a",
   "metadata": {},
   "outputs": [
    {
     "name": "stdout",
     "output_type": "stream",
     "text": [
      " last pos spec0: (0.3194828212885737, 0.4747387414233504)\n",
      " last pos spec1: (0.31892718544460014, 0.47476511374088487)\n",
      " last pos spec2: (0.3187414327783815, 0.4747739395855444)\n",
      " last pos spec3: (0.31864845465777075, 0.47477835911401095)\n",
      " last pos spec4: (0.31859263516182484, 0.4747810129490455)\n",
      " last pos spec5: (0.5995827149233507, 1.237614532211734)\n"
     ]
    }
   ],
   "source": [
    "for spec in specs:\n",
    "    print(f\" last pos {spec}: {all_positions[f'{spec}'][:,0][-1], all_positions[f'{spec}'][:,1][-1]}\")\n",
    "    "
   ]
  },
  {
   "cell_type": "code",
   "execution_count": null,
   "id": "de27610a",
   "metadata": {},
   "outputs": [],
   "source": []
  }
 ],
 "metadata": {
  "kernelspec": {
   "display_name": "Python 3 (ipykernel)",
   "language": "python",
   "name": "python3"
  },
  "language_info": {
   "codemirror_mode": {
    "name": "ipython",
    "version": 3
   },
   "file_extension": ".py",
   "mimetype": "text/x-python",
   "name": "python",
   "nbconvert_exporter": "python",
   "pygments_lexer": "ipython3",
   "version": "3.8.10"
  }
 },
 "nbformat": 4,
 "nbformat_minor": 5
}
