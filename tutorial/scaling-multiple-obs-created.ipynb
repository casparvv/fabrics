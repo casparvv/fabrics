{
 "cells": [
  {
   "cell_type": "markdown",
   "id": "11a47aef",
   "metadata": {},
   "source": [
    "## Tutorial on the pullback operation with collision avoidance spec\n",
    "\n",
    "---"
   ]
  },
  {
   "cell_type": "code",
   "execution_count": 1,
   "id": "d206eb30-fc47-4e4a-a90a-abd06e38f9a3",
   "metadata": {
    "tags": []
   },
   "outputs": [],
   "source": [
    "import casadi as ca\n",
    "import numpy as np\n",
    "from fabrics.diffGeometry.spec import Spec"
   ]
  },
  {
   "cell_type": "markdown",
   "id": "47ec64fb-6dfb-4ebf-a0ca-e8299fcd331a",
   "metadata": {},
   "source": [
    "#### 1. Simple collision avoidance spec\n",
    "\n",
    "We will create a simple spec that describes collision avoidance behavior.\\\n",
    "$\\mathbf{x}$ here is the distance to the obstacle, and the spec is defined on the task space $\\mathcal{X}$.\n",
    "\n",
    "Spec $(\\mathbf{M}, \\mathbf{f})_\\mathcal{X}$:\n",
    "\n",
    "\\begin{align}\n",
    "\\mathbf{M}\\ddot{\\mathbf{x}} + \\mathbf{f} = \\mathbf{0} \\\\\n",
    "with: \\\\\n",
    "\\mathbf{M} &= \\begin{pmatrix} 1 \\end{pmatrix} \\\\\n",
    "\\mathbf{f} &= \\begin{pmatrix} \\frac{-3}{\\mathbf{x}} \\dot{\\mathbf{x}}^2 \\end{pmatrix} \\\\\n",
    "\\end{align}\n"
   ]
  },
  {
   "cell_type": "code",
   "execution_count": 2,
   "id": "fbc12483",
   "metadata": {},
   "outputs": [
    {
     "name": "stderr",
     "output_type": "stream",
     "text": [
      "WARNING:root:Casadi pseudo inverse is used in weighted geometry\n",
      "WARNING:root:Casadi pseudo inverse is used in weighted geometry\n",
      "WARNING:root:Casadi pseudo inverse is used in weighted geometry\n",
      "WARNING:root:Casadi pseudo inverse is used in weighted geometry\n",
      "WARNING:root:Casadi pseudo inverse is used in weighted geometry\n",
      "WARNING:root:Casadi pseudo inverse is used in weighted geometry\n",
      "WARNING:root:Casadi pseudo inverse is used in weighted geometry\n",
      "WARNING:root:Casadi pseudo inverse is used in weighted geometry\n",
      "WARNING:root:Casadi pseudo inverse is used in weighted geometry\n",
      "WARNING:root:Casadi pseudo inverse is used in weighted geometry\n",
      "WARNING:root:Casadi pseudo inverse is used in weighted geometry\n"
     ]
    },
    {
     "name": "stdout",
     "output_type": "stream",
     "text": [
      "M: 1\n",
      "f: ((0.1*(-3/x_o1))*sq(xdot_o1))\n",
      "h: (0.999999*((0.1*(-3/x_o1))*sq(xdot_o1)))\n"
     ]
    }
   ],
   "source": [
    "# Using the built in __add__ function\n",
    "x_o1 = ca.SX.sym('x_o1', 1)\n",
    "xdot_o1 = ca.SX.sym('xdot_o1', 1)\n",
    "M1 = ca.SX([[1.0]])\n",
    "f1 = ca.vcat([-3.0/x_o1[0] * 0.1 * xdot_o1**2])\n",
    "simple_spec1 = Spec(M1, f=f1, x=x_o1, xdot=xdot_o1)\n",
    "simple_spec1.concretize()\n",
    "\n",
    "x_o2 = ca.SX.sym('x_o2', 1)\n",
    "xdot_o2 = ca.SX.sym('xdot_o2', 1)\n",
    "M2 = ca.SX([[1.0]])\n",
    "f2 = ca.vcat([-3.0/x_o2[0] * 0.1 * xdot_o2**2])\n",
    "simple_spec2 = Spec(M2, f=f2, x=x_o2, xdot=xdot_o2)\n",
    "simple_spec2.concretize()\n",
    "\n",
    "x_o3 = ca.SX.sym('x_o3', 1)\n",
    "xdot_o3 = ca.SX.sym('xdot_o3', 1)\n",
    "M3 = ca.SX([[1.0]])\n",
    "f3 = ca.vcat([-3.0/x_o3[0] * 0.1 * xdot_o3**2])\n",
    "simple_spec3 = Spec(M3, f=f3, x=x_o3, xdot=xdot_o3)\n",
    "simple_spec3.concretize()\n",
    "\n",
    "x_o4 = ca.SX.sym('x_o4', 1)\n",
    "xdot_o4 = ca.SX.sym('xdot_o4', 1)\n",
    "M4 = ca.SX([[1.0]])\n",
    "f4 = ca.vcat([-3.0/x_o4[0] * 0.1 * xdot_o4**2])\n",
    "simple_spec4 = Spec(M4, f=f4, x=x_o4, xdot=xdot_o4)\n",
    "simple_spec4.concretize()\n",
    "\n",
    "x_o5 = ca.SX.sym('x_o5', 1)\n",
    "xdot_o5 = ca.SX.sym('xdot_o5', 1)\n",
    "M5 = ca.SX([[1.0]])\n",
    "f5 = ca.vcat([-3.0/x_o5[0] * 0.1 * xdot_o5**2])\n",
    "simple_spec5 = Spec(M5, f=f5, x=x_o5, xdot=xdot_o5)\n",
    "simple_spec5.concretize()\n",
    "\n",
    "x_o6 = ca.SX.sym('x_o6', 1)\n",
    "xdot_o6 = ca.SX.sym('xdot_o6', 1)\n",
    "M6 = ca.SX([[1.0]])\n",
    "f6 = ca.vcat([-3.0/x_o6[0] * 0.1 * xdot_o6**2])\n",
    "simple_spec6 = Spec(M6, f=f6, x=x_o6, xdot=xdot_o6)\n",
    "simple_spec6.concretize()\n",
    "\n",
    "x_o7 = ca.SX.sym('x_o7', 1)\n",
    "xdot_o7 = ca.SX.sym('xdot_o7', 1)\n",
    "M7 = ca.SX([[1.0]])\n",
    "f7 = ca.vcat([-3.0/x_o7[0] * 0.1 * xdot_o7**2])\n",
    "simple_spec7 = Spec(M7, f=f7, x=x_o7, xdot=xdot_o7)\n",
    "simple_spec7.concretize()\n",
    "\n",
    "x_o8 = ca.SX.sym('x_o8', 1)\n",
    "xdot_o8 = ca.SX.sym('xdot_o8', 1)\n",
    "M8 = ca.SX([[1.0]])\n",
    "f8 = ca.vcat([-3.0/x_o8[0] * 0.1 * xdot_o8**2])\n",
    "simple_spec8 = Spec(M8, f=f8, x=x_o8, xdot=xdot_o8)\n",
    "simple_spec8.concretize()\n",
    "\n",
    "x_o9 = ca.SX.sym('x_o9', 1)\n",
    "xdot_o9 = ca.SX.sym('xdot_o9', 1)\n",
    "M9 = ca.SX([[1.0]])\n",
    "f9 = ca.vcat([-3.0/x_o9[0] * 0.1 * xdot_o9**2])\n",
    "simple_spec9 = Spec(M9, f=f9, x=x_o9, xdot=xdot_o9)\n",
    "simple_spec9.concretize()\n",
    "\n",
    "x_o10 = ca.SX.sym('x_o10', 1)\n",
    "xdot_o10 = ca.SX.sym('xdot_o10', 1)\n",
    "M10 = ca.SX([[1.0]])\n",
    "f10 = ca.vcat([-3.0/x_o10[0] * 0.1 * xdot_o10**2])\n",
    "simple_spec10 = Spec(M10, f=f10, x=x_o10, xdot=xdot_o10)\n",
    "simple_spec10.concretize()\n",
    "\n",
    "print(f\"M: {simple_spec1.M()}\")\n",
    "print(f\"f: {simple_spec1.f()}\")\n",
    "print(f\"h: {simple_spec1.h()}\")"
   ]
  },
  {
   "cell_type": "markdown",
   "id": "9ea4252a-c2c8-485b-9541-a3d294b25810",
   "metadata": {},
   "source": [
    "#### 2. Obstacle\n",
    "\n",
    "Let us first define an sphere obstacle with the following position and radius:\n",
    "\n",
    "\\begin{align}\n",
    "\\mathbf{q}_{obs} &= \\begin{pmatrix} 1 \\\\ 0 \\end{pmatrix} \\\\\n",
    "r_{obs} &= 0.5\n",
    "\\end{align}\n"
   ]
  },
  {
   "cell_type": "code",
   "execution_count": 3,
   "id": "a385500c",
   "metadata": {},
   "outputs": [],
   "source": [
    "n_points = 10\n",
    "\n",
    "radius = 0.4\n",
    "\n",
    "angles = np.linspace(0, 2*np.pi, n_points, endpoint=False)\n",
    "\n",
    "x = 1.0 + radius * np.cos(angles)\n",
    "y = radius * np.sin(angles)\n",
    "\n",
    "positions = np.column_stack((x, y))"
   ]
  },
  {
   "cell_type": "code",
   "execution_count": 4,
   "id": "31c08209-30e6-4902-b354-79d8a1beef88",
   "metadata": {},
   "outputs": [],
   "source": [
    "from mpscenes.obstacles.sphere_obstacle import SphereObstacle\n",
    "\n",
    "circle_dict1 = {\n",
    "    'type': 'SphereObstacle',\n",
    "    'geometry': {\n",
    "        'position': positions[0].tolist(),\n",
    "        'radius': 0.2,\n",
    "    }\n",
    "}\n",
    "obstacle1 = SphereObstacle(name=\"CircleObstacle1\", content_dict = circle_dict1)\n",
    "\n",
    "circle_dict2 = {\n",
    "    'type': 'SphereObstacle',\n",
    "    'geometry': {\n",
    "        'position': positions[1].tolist(),\n",
    "        'radius': 0.2,\n",
    "    }\n",
    "}\n",
    "obstacle2 = SphereObstacle(name=\"CircleObstacle2\", content_dict = circle_dict2)\n",
    "\n",
    "circle_dict3 = {\n",
    "    'type': 'SphereObstacle',\n",
    "    'geometry': {\n",
    "        'position': positions[2].tolist(),\n",
    "        'radius': 0.2,\n",
    "    }\n",
    "}\n",
    "obstacle3 = SphereObstacle(name=\"CircleObstacle3\", content_dict = circle_dict3)\n",
    "\n",
    "circle_dict4 = {\n",
    "    'type': 'SphereObstacle',\n",
    "    'geometry': {\n",
    "        'position': positions[3].tolist(),\n",
    "        'radius': 0.2,\n",
    "    }\n",
    "}\n",
    "obstacle4 = SphereObstacle(name=\"CircleObstacle4\", content_dict = circle_dict4)\n",
    "\n",
    "circle_dict5 = {\n",
    "    'type': 'SphereObstacle',\n",
    "    'geometry': {\n",
    "        'position': positions[4].tolist(),\n",
    "        'radius': 0.2,\n",
    "    }\n",
    "}\n",
    "obstacle5 = SphereObstacle(name=\"CircleObstacle5\", content_dict = circle_dict5)\n",
    "\n",
    "circle_dict6 = {\n",
    "    'type': 'SphereObstacle',\n",
    "    'geometry': {\n",
    "        'position': positions[5].tolist(),\n",
    "        'radius': 0.2,\n",
    "    }\n",
    "}\n",
    "obstacle6 = SphereObstacle(name=\"CircleObstacle6\", content_dict = circle_dict6)\n",
    "\n",
    "circle_dict7 = {\n",
    "    'type': 'SphereObstacle',\n",
    "    'geometry': {\n",
    "        'position': positions[6].tolist(),\n",
    "        'radius': 0.2,\n",
    "    }\n",
    "}\n",
    "obstacle7 = SphereObstacle(name=\"CircleObstacle7\", content_dict = circle_dict7)\n",
    "\n",
    "circle_dict8 = {\n",
    "    'type': 'SphereObstacle',\n",
    "    'geometry': {\n",
    "        'position': positions[7].tolist(),\n",
    "        'radius': 0.2,\n",
    "    }\n",
    "}\n",
    "obstacle8 = SphereObstacle(name=\"CircleObstacle8\", content_dict = circle_dict8)\n",
    "\n",
    "circle_dict9 = {\n",
    "    'type': 'SphereObstacle',\n",
    "    'geometry': {\n",
    "        'position': positions[8].tolist(),\n",
    "        'radius': 0.2,\n",
    "    }\n",
    "}\n",
    "obstacle9 = SphereObstacle(name=\"CircleObstacle9\", content_dict = circle_dict9)\n",
    "\n",
    "circle_dict10 = {\n",
    "    'type': 'SphereObstacle',\n",
    "    'geometry': {\n",
    "        'position': positions[9].tolist(),\n",
    "        'radius': 0.2,\n",
    "    }\n",
    "}\n",
    "obstacle10 = SphereObstacle(name=\"CircleObstacle10\", content_dict = circle_dict10)"
   ]
  },
  {
   "cell_type": "markdown",
   "id": "b6530c0c",
   "metadata": {},
   "source": [
    "#### 3. Differential map obstacle\n",
    "\n",
    "Now we need to create a differential map $\\phi: \\mathcal{Q} \\rightarrow \\mathcal{X}$ between distance task space $\\mathcal{X}$ and robot configuration space $\\mathcal{Q}$.\n",
    "\n",
    "\\begin{align}\n",
    "\\phi(\\mathbf{q}) = \\frac{||\\mathbf{q} - \\mathbf{q}_{obs}||_2}{r_{obs}} - 1\n",
    "\\end{align}\n"
   ]
  },
  {
   "cell_type": "code",
   "execution_count": 5,
   "id": "28de53a5-d62d-448b-ad6b-92abd0fb1c37",
   "metadata": {},
   "outputs": [],
   "source": [
    "from fabrics.diffGeometry.diffMap import DifferentialMap\n",
    "from fabrics.helpers.variables import Variables\n",
    "x = ca.SX.sym('x', 2)\n",
    "xdot = ca.SX.sym('xdot', 2)\n",
    "variables = Variables(state_variables={'x': x, 'xdot': xdot})\n",
    "\n",
    "phi1 = ca.norm_2(x - obstacle1.position())/obstacle1.radius() - 1\n",
    "diff_map1 = DifferentialMap(phi1, variables)\n",
    "\n",
    "phi2 = ca.norm_2(x - obstacle2.position())/obstacle2.radius() - 1\n",
    "diff_map2 = DifferentialMap(phi2, variables)\n",
    "\n",
    "phi3 = ca.norm_2(x - obstacle3.position())/obstacle3.radius() - 1\n",
    "diff_map3 = DifferentialMap(phi3, variables)\n",
    "\n",
    "phi4 = ca.norm_2(x - obstacle4.position())/obstacle4.radius() - 1\n",
    "diff_map4 = DifferentialMap(phi4, variables)\n",
    "\n",
    "phi5 = ca.norm_2(x - obstacle5.position())/obstacle5.radius() - 1\n",
    "diff_map5 = DifferentialMap(phi5, variables)\n",
    "\n",
    "phi6 = ca.norm_2(x - obstacle6.position())/obstacle6.radius() - 1\n",
    "diff_map6 = DifferentialMap(phi6, variables)\n",
    "\n",
    "phi7 = ca.norm_2(x - obstacle7.position())/obstacle7.radius() - 1\n",
    "diff_map7 = DifferentialMap(phi7, variables)\n",
    "\n",
    "phi8 = ca.norm_2(x - obstacle8.position())/obstacle8.radius() - 1\n",
    "diff_map8 = DifferentialMap(phi8, variables)\n",
    "\n",
    "phi9 = ca.norm_2(x - obstacle9.position())/obstacle9.radius() - 1\n",
    "diff_map9 = DifferentialMap(phi9, variables)\n",
    "\n",
    "phi10 = ca.norm_2(x - obstacle10.position())/obstacle10.radius() - 1\n",
    "diff_map10 = DifferentialMap(phi10, variables)"
   ]
  },
  {
   "cell_type": "markdown",
   "id": "b8d991f5-de90-4c62-a628-51b41e226826",
   "metadata": {},
   "source": [
    "#### 4. Pullback operation\n",
    "\n",
    "Using the differential map $\\phi$, the spec can be pulled to the configuration space as $(\\mathbf{M}, \\mathbf{f})_\\mathcal{Q}$ from the task space as $(\\mathbf{M}, \\mathbf{f})_\\mathcal{X}$ using the pullback operation:\n",
    "\n",
    "\\begin{align}\n",
    "(\\mathbf{M}, \\mathbf{f})_\\mathcal{Q} = pull_{\\phi} (\\mathbf{M}, \\mathbf{f})_\\mathcal{X} = \\left(\\mathbf{J}^T\\mathbf{M}\\mathbf{J}, \\mathbf{J}^T(\\mathbf{f} + \\mathbf{M}\\mathbf{\\dot{J}}\\mathbf{\\dot{q}})\\right)\n",
    "\\end{align}\n",
    "\n",
    "The pullback operation is derived using the differential map's Jacobian $\\mathbf{J} = \\partial_{\\mathbf{q}}\\phi $ and $\\ddot{\\mathbf{x}} = \\mathbf{J}\\mathbf{\\ddot{q}} + \\mathbf{\\dot{J}}\\mathbf{\\dot{q}}$ as follows:\n",
    "\\begin{align}\n",
    "pull_{\\phi} (\\mathbf{M}, \\mathbf{f})_\\mathcal{X} = \\mathbf{J}^T(\\mathbf{M}\\ddot{\\mathbf{x}} + \\mathbf{f}) &= \\mathbf{J}^T\\left(\\mathbf{M}(\\mathbf{J}\\mathbf{\\ddot{q}} + \\mathbf{\\dot{J}}\\mathbf{\\dot{q}}) + \\mathbf{f}\\right) \\\\\n",
    "&= (\\mathbf{J}^T\\mathbf{M}\\mathbf{J})\\mathbf{\\ddot{q}} + \\mathbf{J}^T(\\mathbf{f} + \\mathbf{M}\\mathbf{\\dot{J}}\\mathbf{\\dot{q}})\n",
    "\\end{align}\n",
    "\n",
    "In the next cell, the simple collision avoidance spec is pulled back to the configuration space and rewriten in the motion policy form with concretize."
   ]
  },
  {
   "cell_type": "code",
   "execution_count": 6,
   "id": "6fca20be-1433-414b-984e-a39d78901825",
   "metadata": {
    "tags": []
   },
   "outputs": [
    {
     "name": "stderr",
     "output_type": "stream",
     "text": [
      "WARNING:root:Casadi pseudo inverse is used in weighted geometry\n",
      "WARNING:root:Casadi pseudo inverse is used in weighted geometry\n"
     ]
    },
    {
     "name": "stdout",
     "output_type": "stream",
     "text": [
      "M: @1=5, @2=(x_0-1.4), @3=sqrt((sq(@2)+sq(x_1))), @4=(@1*(@2/@3)), @5=1.32361, @6=(x_0-@5), @7=(x_1-0.235114), @8=sqrt((sq(@6)+sq(@7))), @9=(@1*(@6/@8)), @10=(x_0-1.12361), @11=(x_1-0.380423), @12=sqrt((sq(@10)+sq(@11))), @13=(@1*(@10/@12)), @14=(x_0-0.876393), @15=(x_1-0.380423), @16=sqrt((sq(@14)+sq(@15))), @17=(@1*(@14/@16)), @18=0.676393, @19=(x_0-@18), @20=(x_1-0.235114), @21=sqrt((sq(@19)+sq(@20))), @22=(@1*(@19/@21)), @23=(x_0-0.6), @24=(x_1-4.89859e-17), @25=sqrt((sq(@23)+sq(@24))), @26=(@1*(@23/@25)), @27=(x_0-@18), @28=(x_1--0.235114), @29=sqrt((sq(@27)+sq(@28))), @30=(@1*(@27/@29)), @31=(x_0-0.876393), @32=(x_1--0.380423), @33=sqrt((sq(@31)+sq(@32))), @34=(@1*(@31/@33)), @35=(x_0-1.12361), @36=(x_1--0.380423), @37=sqrt((sq(@35)+sq(@36))), @38=(@1*(@35/@37)), @39=(x_0-@5), @40=(x_1--0.235114), @41=sqrt((sq(@39)+sq(@40))), @42=(@1*(@39/@41)), @43=(@1*(x_1/@3)), @44=(@1*(@7/@8)), @45=(@1*(@11/@12)), @46=(@1*(@15/@16)), @47=(@1*(@20/@21)), @48=(@1*(@24/@25)), @49=(@1*(@28/@29)), @50=(@1*(@32/@33)), @51=(@1*(@36/@37)), @52=(@1*(@40/@41)), \n",
      "[[(((((((((sq(@4)+sq(@9))+sq(@13))+sq(@17))+sq(@22))+sq(@26))+sq(@30))+sq(@34))+sq(@38))+sq(@42)), ((((((((((@4*@43)+(@9*@44))+(@13*@45))+(@17*@46))+(@22*@47))+(@26*@48))+(@30*@49))+(@34*@50))+(@38*@51))+(@42*@52))], \n",
      " [((((((((((@43*@4)+(@44*@9))+(@45*@13))+(@46*@17))+(@47*@22))+(@48*@26))+(@49*@30))+(@50*@34))+(@51*@38))+(@52*@42)), (((((((((sq(@43)+sq(@44))+sq(@45))+sq(@46))+sq(@47))+sq(@48))+sq(@49))+sq(@50))+sq(@51))+sq(@52))]]\n",
      "f: @1=5, @2=(x_0-1.4), @3=sqrt((sq(@2)+sq(x_1))), @4=(@2/@3), @5=(@1*@4), @6=0.1, @7=-3, @8=0.2, @9=1, @10=(x_1/@3), @11=(@1*@10), @12=((@6*(@7/((@3/@8)-@9)))*sq(((@5*xdot_0)+(@11*xdot_1)))), @13=(@4/@3), @14=(@2/@3), @15=(@10/@3), @16=(x_1/@3), @17=((((xdot_0*(@1*((1./@3)-(@13*@14))))-(xdot_1*(@1*(@15*@14))))*xdot_0)+(((xdot_1*(@1*((1./@3)-(@15*@16))))-(xdot_0*(@1*(@13*@16))))*xdot_1)), @18=1.32361, @19=(x_0-@18), @20=(x_1-0.235114), @21=sqrt((sq(@19)+sq(@20))), @22=(@19/@21), @23=(@1*@22), @24=(@20/@21), @25=(@1*@24), @26=((@6*(@7/((@21/@8)-@9)))*sq(((@23*xdot_0)+(@25*xdot_1)))), @27=(@22/@21), @28=(@19/@21), @29=(@24/@21), @30=(@20/@21), @31=((((xdot_0*(@1*((1./@21)-(@27*@28))))-(xdot_1*(@1*(@29*@28))))*xdot_0)+(((xdot_1*(@1*((1./@21)-(@29*@30))))-(xdot_0*(@1*(@27*@30))))*xdot_1)), @32=(x_0-1.12361), @33=(x_1-0.380423), @34=sqrt((sq(@32)+sq(@33))), @35=(@32/@34), @36=(@1*@35), @37=(@33/@34), @38=(@1*@37), @39=((@6*(@7/((@34/@8)-@9)))*sq(((@36*xdot_0)+(@38*xdot_1)))), @40=(@35/@34), @41=(@32/@34), @42=(@37/@34), @43=(@33/@34), @44=((((xdot_0*(@1*((1./@34)-(@40*@41))))-(xdot_1*(@1*(@42*@41))))*xdot_0)+(((xdot_1*(@1*((1./@34)-(@42*@43))))-(xdot_0*(@1*(@40*@43))))*xdot_1)), @45=(x_0-0.876393), @46=(x_1-0.380423), @47=sqrt((sq(@45)+sq(@46))), @48=(@45/@47), @49=(@1*@48), @50=(@46/@47), @51=(@1*@50), @52=((@6*(@7/((@47/@8)-@9)))*sq(((@49*xdot_0)+(@51*xdot_1)))), @53=(@48/@47), @54=(@45/@47), @55=(@50/@47), @56=(@46/@47), @57=((((xdot_0*(@1*((1./@47)-(@53*@54))))-(xdot_1*(@1*(@55*@54))))*xdot_0)+(((xdot_1*(@1*((1./@47)-(@55*@56))))-(xdot_0*(@1*(@53*@56))))*xdot_1)), @58=0.676393, @59=(x_0-@58), @60=(x_1-0.235114), @61=sqrt((sq(@59)+sq(@60))), @62=(@59/@61), @63=(@1*@62), @64=(@60/@61), @65=(@1*@64), @66=((@6*(@7/((@61/@8)-@9)))*sq(((@63*xdot_0)+(@65*xdot_1)))), @67=(@62/@61), @68=(@59/@61), @69=(@64/@61), @70=(@60/@61), @71=((((xdot_0*(@1*((1./@61)-(@67*@68))))-(xdot_1*(@1*(@69*@68))))*xdot_0)+(((xdot_1*(@1*((1./@61)-(@69*@70))))-(xdot_0*(@1*(@67*@70))))*xdot_1)), @72=(x_0-0.6), @73=(x_1-4.89859e-17), @74=sqrt((sq(@72)+sq(@73))), @75=(@72/@74), @76=(@1*@75), @77=(@73/@74), @78=(@1*@77), @79=((@6*(@7/((@74/@8)-@9)))*sq(((@76*xdot_0)+(@78*xdot_1)))), @80=(@75/@74), @81=(@72/@74), @82=(@77/@74), @83=(@73/@74), @84=((((xdot_0*(@1*((1./@74)-(@80*@81))))-(xdot_1*(@1*(@82*@81))))*xdot_0)+(((xdot_1*(@1*((1./@74)-(@82*@83))))-(xdot_0*(@1*(@80*@83))))*xdot_1)), @85=(x_0-@58), @86=(x_1--0.235114), @87=sqrt((sq(@85)+sq(@86))), @88=(@85/@87), @89=(@1*@88), @90=(@86/@87), @91=(@1*@90), @92=((@6*(@7/((@87/@8)-@9)))*sq(((@89*xdot_0)+(@91*xdot_1)))), @93=(@88/@87), @94=(@85/@87), @95=(@90/@87), @96=(@86/@87), @97=((((xdot_0*(@1*((1./@87)-(@93*@94))))-(xdot_1*(@1*(@95*@94))))*xdot_0)+(((xdot_1*(@1*((1./@87)-(@95*@96))))-(xdot_0*(@1*(@93*@96))))*xdot_1)), @98=(x_0-0.876393), @99=(x_1--0.380423), @100=sqrt((sq(@98)+sq(@99))), @101=(@98/@100), @102=(@1*@101), @103=(@99/@100), @104=(@1*@103), @105=((@6*(@7/((@100/@8)-@9)))*sq(((@102*xdot_0)+(@104*xdot_1)))), @106=(@101/@100), @107=(@98/@100), @108=(@103/@100), @109=(@99/@100), @110=((((xdot_0*(@1*((1./@100)-(@106*@107))))-(xdot_1*(@1*(@108*@107))))*xdot_0)+(((xdot_1*(@1*((1./@100)-(@108*@109))))-(xdot_0*(@1*(@106*@109))))*xdot_1)), @111=(x_0-1.12361), @112=(x_1--0.380423), @113=sqrt((sq(@111)+sq(@112))), @114=(@111/@113), @115=(@1*@114), @116=(@112/@113), @117=(@1*@116), @118=((@6*(@7/((@113/@8)-@9)))*sq(((@115*xdot_0)+(@117*xdot_1)))), @119=(@114/@113), @120=(@111/@113), @121=(@116/@113), @122=(@112/@113), @123=((((xdot_0*(@1*((1./@113)-(@119*@120))))-(xdot_1*(@1*(@121*@120))))*xdot_0)+(((xdot_1*(@1*((1./@113)-(@121*@122))))-(xdot_0*(@1*(@119*@122))))*xdot_1)), @124=(x_0-@18), @125=(x_1--0.235114), @126=sqrt((sq(@124)+sq(@125))), @127=(@124/@126), @128=(@1*@127), @129=(@125/@126), @130=(@1*@129), @131=((@6*(@7/((@126/@8)-@9)))*sq(((@128*xdot_0)+(@130*xdot_1)))), @132=(@127/@126), @133=(@124/@126), @134=(@129/@126), @135=(@125/@126), @136=((((xdot_0*(@1*((1./@126)-(@132*@133))))-(xdot_1*(@1*(@134*@133))))*xdot_0)+(((xdot_1*(@1*((1./@126)-(@134*@135))))-(xdot_0*(@1*(@132*@135))))*xdot_1)), [(((((((((((@5*@12)-(@5*@17))+((@23*@26)-(@23*@31)))+((@36*@39)-(@36*@44)))+((@49*@52)-(@49*@57)))+((@63*@66)-(@63*@71)))+((@76*@79)-(@76*@84)))+((@89*@92)-(@89*@97)))+((@102*@105)-(@102*@110)))+((@115*@118)-(@115*@123)))+((@128*@131)-(@128*@136))), (((((((((((@11*@12)-(@11*@17))+((@25*@26)-(@25*@31)))+((@38*@39)-(@38*@44)))+((@51*@52)-(@51*@57)))+((@65*@66)-(@65*@71)))+((@78*@79)-(@78*@84)))+((@91*@92)-(@91*@97)))+((@104*@105)-(@104*@110)))+((@117*@118)-(@117*@123)))+((@130*@131)-(@130*@136)))]\n",
      "h: @1=5, @2=(x_0-1.4), @3=sqrt((sq(@2)+sq(x_1))), @4=(x_1/@3), @5=(@1*@4), @6=(@2/@3), @7=(@1*@6), @8=(x_1-0.235114), @9=1.32361, @10=(x_0-@9), @11=sqrt((sq(@10)+sq(@8))), @12=(@8/@11), @13=(@1*@12), @14=(@10/@11), @15=(@1*@14), @16=(x_1-0.380423), @17=(x_0-1.12361), @18=sqrt((sq(@17)+sq(@16))), @19=(@16/@18), @20=(@1*@19), @21=(@17/@18), @22=(@1*@21), @23=(x_1-0.380423), @24=(x_0-0.876393), @25=sqrt((sq(@24)+sq(@23))), @26=(@23/@25), @27=(@1*@26), @28=(@24/@25), @29=(@1*@28), @30=(x_1-0.235114), @31=0.676393, @32=(x_0-@31), @33=sqrt((sq(@32)+sq(@30))), @34=(@30/@33), @35=(@1*@34), @36=(@32/@33), @37=(@1*@36), @38=(x_1-4.89859e-17), @39=(x_0-0.6), @40=sqrt((sq(@39)+sq(@38))), @41=(@38/@40), @42=(@1*@41), @43=(@39/@40), @44=(@1*@43), @45=(x_1--0.235114), @46=(x_0-@31), @47=sqrt((sq(@46)+sq(@45))), @48=(@45/@47), @49=(@1*@48), @50=(@46/@47), @51=(@1*@50), @52=(x_1--0.380423), @53=(x_0-0.876393), @54=sqrt((sq(@53)+sq(@52))), @55=(@52/@54), @56=(@1*@55), @57=(@53/@54), @58=(@1*@57), @59=(x_1--0.380423), @60=(x_0-1.12361), @61=sqrt((sq(@60)+sq(@59))), @62=(@59/@61), @63=(@1*@62), @64=(@60/@61), @65=(@1*@64), @66=(x_1--0.235114), @67=(x_0-@9), @68=sqrt((sq(@67)+sq(@66))), @69=(@66/@68), @70=(@1*@69), @71=(@67/@68), @72=(@1*@71), @73=((((((((((@5*@7)+(@13*@15))+(@20*@22))+(@27*@29))+(@35*@37))+(@42*@44))+(@49*@51))+(@56*@58))+(@63*@65))+(@70*@72)), @74=1e-06, @75=((((((((((sq(@5)+sq(@13))+sq(@20))+sq(@27))+sq(@35))+sq(@42))+sq(@49))+sq(@56))+sq(@63))+sq(@70))+@74), @76=(sq(@73)+sq(@75)), @77=((((((((((sq(@7)+sq(@15))+sq(@22))+sq(@29))+sq(@37))+sq(@44))+sq(@51))+sq(@58))+sq(@65))+sq(@72))+@74), @78=((((((((((@7*@5)+(@15*@13))+(@22*@20))+(@29*@27))+(@37*@35))+(@44*@42))+(@51*@49))+(@58*@56))+(@65*@63))+(@72*@70)), @79=(sq(@77)+sq(@78)), @80=((@77*@73)+(@78*@75)), @81=((@73*@77)+(@75*@78)), @82=((@79*@76)-(@80*@81)), @83=(@76/@82), @84=(@80/@82), @85=0.1, @86=-3, @87=0.2, @88=1, @89=((@85*(@86/((@3/@87)-@88)))*sq(((@7*xdot_0)+(@5*xdot_1)))), @90=(@6/@3), @91=(@2/@3), @92=(@4/@3), @93=(x_1/@3), @94=((((xdot_0*(@1*((1./@3)-(@90*@91))))-(xdot_1*(@1*(@92*@91))))*xdot_0)+(((xdot_1*(@1*((1./@3)-(@92*@93))))-(xdot_0*(@1*(@90*@93))))*xdot_1)), @95=((@85*(@86/((@11/@87)-@88)))*sq(((@15*xdot_0)+(@13*xdot_1)))), @96=(@14/@11), @97=(@10/@11), @98=(@12/@11), @99=(@8/@11), @100=((((xdot_0*(@1*((1./@11)-(@96*@97))))-(xdot_1*(@1*(@98*@97))))*xdot_0)+(((xdot_1*(@1*((1./@11)-(@98*@99))))-(xdot_0*(@1*(@96*@99))))*xdot_1)), @101=((@85*(@86/((@18/@87)-@88)))*sq(((@22*xdot_0)+(@20*xdot_1)))), @102=(@21/@18), @103=(@17/@18), @104=(@19/@18), @105=(@16/@18), @106=((((xdot_0*(@1*((1./@18)-(@102*@103))))-(xdot_1*(@1*(@104*@103))))*xdot_0)+(((xdot_1*(@1*((1./@18)-(@104*@105))))-(xdot_0*(@1*(@102*@105))))*xdot_1)), @107=((@85*(@86/((@25/@87)-@88)))*sq(((@29*xdot_0)+(@27*xdot_1)))), @108=(@28/@25), @109=(@24/@25), @110=(@26/@25), @111=(@23/@25), @112=((((xdot_0*(@1*((1./@25)-(@108*@109))))-(xdot_1*(@1*(@110*@109))))*xdot_0)+(((xdot_1*(@1*((1./@25)-(@110*@111))))-(xdot_0*(@1*(@108*@111))))*xdot_1)), @113=((@85*(@86/((@33/@87)-@88)))*sq(((@37*xdot_0)+(@35*xdot_1)))), @114=(@36/@33), @115=(@32/@33), @116=(@34/@33), @117=(@30/@33), @118=((((xdot_0*(@1*((1./@33)-(@114*@115))))-(xdot_1*(@1*(@116*@115))))*xdot_0)+(((xdot_1*(@1*((1./@33)-(@116*@117))))-(xdot_0*(@1*(@114*@117))))*xdot_1)), @119=((@85*(@86/((@40/@87)-@88)))*sq(((@44*xdot_0)+(@42*xdot_1)))), @120=(@43/@40), @121=(@39/@40), @122=(@41/@40), @123=(@38/@40), @124=((((xdot_0*(@1*((1./@40)-(@120*@121))))-(xdot_1*(@1*(@122*@121))))*xdot_0)+(((xdot_1*(@1*((1./@40)-(@122*@123))))-(xdot_0*(@1*(@120*@123))))*xdot_1)), @125=((@85*(@86/((@47/@87)-@88)))*sq(((@51*xdot_0)+(@49*xdot_1)))), @126=(@50/@47), @127=(@46/@47), @128=(@48/@47), @129=(@45/@47), @130=((((xdot_0*(@1*((1./@47)-(@126*@127))))-(xdot_1*(@1*(@128*@127))))*xdot_0)+(((xdot_1*(@1*((1./@47)-(@128*@129))))-(xdot_0*(@1*(@126*@129))))*xdot_1)), @131=((@85*(@86/((@54/@87)-@88)))*sq(((@58*xdot_0)+(@56*xdot_1)))), @132=(@57/@54), @133=(@53/@54), @134=(@55/@54), @135=(@52/@54), @136=((((xdot_0*(@1*((1./@54)-(@132*@133))))-(xdot_1*(@1*(@134*@133))))*xdot_0)+(((xdot_1*(@1*((1./@54)-(@134*@135))))-(xdot_0*(@1*(@132*@135))))*xdot_1)), @137=((@85*(@86/((@61/@87)-@88)))*sq(((@65*xdot_0)+(@63*xdot_1)))), @138=(@64/@61), @139=(@60/@61), @140=(@62/@61), @141=(@59/@61), @142=((((xdot_0*(@1*((1./@61)-(@138*@139))))-(xdot_1*(@1*(@140*@139))))*xdot_0)+(((xdot_1*(@1*((1./@61)-(@140*@141))))-(xdot_0*(@1*(@138*@141))))*xdot_1)), @143=((@85*(@86/((@68/@87)-@88)))*sq(((@72*xdot_0)+(@70*xdot_1)))), @144=(@71/@68), @145=(@67/@68), @146=(@69/@68), @147=(@66/@68), @148=((((xdot_0*(@1*((1./@68)-(@144*@145))))-(xdot_1*(@1*(@146*@145))))*xdot_0)+(((xdot_1*(@1*((1./@68)-(@146*@147))))-(xdot_0*(@1*(@144*@147))))*xdot_1)), @149=(((((((((((@7*@89)-(@7*@94))+((@15*@95)-(@15*@100)))+((@22*@101)-(@22*@106)))+((@29*@107)-(@29*@112)))+((@37*@113)-(@37*@118)))+((@44*@119)-(@44*@124)))+((@51*@125)-(@51*@130)))+((@58*@131)-(@58*@136)))+((@65*@137)-(@65*@142)))+((@72*@143)-(@72*@148))), @150=(@79/@82), @151=(@81/@82), @152=(((((((((((@5*@89)-(@5*@94))+((@13*@95)-(@13*@100)))+((@20*@101)-(@20*@106)))+((@27*@107)-(@27*@112)))+((@35*@113)-(@35*@118)))+((@42*@119)-(@42*@124)))+((@49*@125)-(@49*@130)))+((@56*@131)-(@56*@136)))+((@63*@137)-(@63*@142)))+((@70*@143)-(@70*@148))), [((((@83*@77)-(@84*@73))*@149)+(((@150*@73)-(@151*@77))*@152)), ((((@83*@78)-(@84*@75))*@149)+(((@150*@75)-(@151*@78))*@152))]\n"
     ]
    }
   ],
   "source": [
    "simple_spec1 = simple_spec1.pull(diff_map1)\n",
    "simple_spec2 = simple_spec2.pull(diff_map2)\n",
    "simple_spec3 = simple_spec3.pull(diff_map3)\n",
    "simple_spec4 = simple_spec4.pull(diff_map4)\n",
    "simple_spec5 = simple_spec5.pull(diff_map5)\n",
    "simple_spec6 = simple_spec6.pull(diff_map6)\n",
    "simple_spec7 = simple_spec7.pull(diff_map7)\n",
    "simple_spec8 = simple_spec8.pull(diff_map8)\n",
    "simple_spec9 = simple_spec9.pull(diff_map9)\n",
    "simple_spec10 = simple_spec10.pull(diff_map10)\n",
    "\n",
    "simple_spec1 = simple_spec1.__add__(simple_spec2)\n",
    "simple_spec1 = simple_spec1.__add__(simple_spec3)\n",
    "simple_spec1 = simple_spec1.__add__(simple_spec4)\n",
    "simple_spec1 = simple_spec1.__add__(simple_spec5)\n",
    "simple_spec1 = simple_spec1.__add__(simple_spec6)\n",
    "simple_spec1 = simple_spec1.__add__(simple_spec7)\n",
    "simple_spec1 = simple_spec1.__add__(simple_spec8)\n",
    "simple_spec1 = simple_spec1.__add__(simple_spec9)\n",
    "simple_spec1 = simple_spec1.__add__(simple_spec10)\n",
    "simple_spec1.concretize()\n",
    "\n",
    "\n",
    "print(f\"M: {simple_spec1.M()}\")\n",
    "print(f\"f: {simple_spec1.f()}\")\n",
    "print(f\"h: {simple_spec1.h()}\")"
   ]
  },
  {
   "cell_type": "markdown",
   "id": "f79502a7-f0cf-4e20-8bb6-110120c9324a",
   "metadata": {},
   "source": [
    "### Planar simulation of simple collision avoidance spec\n",
    "\n",
    "Test the spec inside a planar simulation environment.\\\n",
    "The spec produces a trajectory which will be visualized by the environment."
   ]
  },
  {
   "cell_type": "code",
   "execution_count": 7,
   "id": "70792bdf-365f-40ce-8902-fcef5af5ea36",
   "metadata": {},
   "outputs": [
    {
     "name": "stderr",
     "output_type": "stream",
     "text": [
      "\n"
     ]
    }
   ],
   "source": [
    "import gym\n",
    "import numpy as np\n",
    "import planarenvs.point_robot\n",
    "import sys\n",
    "\n",
    "if not sys.warnoptions:\n",
    "    import warnings\n",
    "    warnings.simplefilter(\"ignore\")"
   ]
  },
  {
   "cell_type": "markdown",
   "id": "5723cd49-dfca-4bab-9481-6204f375fbf2",
   "metadata": {},
   "source": [
    "#### 1. Run the simulation to create the first trajectory"
   ]
  },
  {
   "cell_type": "code",
   "execution_count": 8,
   "id": "cbb03dc3",
   "metadata": {},
   "outputs": [],
   "source": [
    "# 10 obstacles spec\n",
    "env = gym.make(\"point-robot-acc-v0\", render=False, dt=0.01)\n",
    "init_pos = np.array([-1.0, 0.2])\n",
    "init_vel = np.array([1.1, 0.0])\n",
    "ob = env.reset(pos=init_pos, vel=init_vel)\n",
    "env.add_obstacle(obstacle1)\n",
    "env.add_obstacle(obstacle2)\n",
    "env.add_obstacle(obstacle3)\n",
    "env.add_obstacle(obstacle4)\n",
    "env.add_obstacle(obstacle5)\n",
    "env.add_obstacle(obstacle6)\n",
    "env.add_obstacle(obstacle7)\n",
    "env.add_obstacle(obstacle8)\n",
    "env.add_obstacle(obstacle9)\n",
    "env.add_obstacle(obstacle10)\n",
    "n_steps = 1000\n",
    "positions_10 = np.zeros((n_steps, 2))\n",
    "actions_10 = np.zeros((n_steps, 2))\n",
    "for i in range(n_steps):\n",
    "    x = ob['joint_state']['position']\n",
    "    positions_10[i] = x\n",
    "    xdot = ob['joint_state']['velocity']\n",
    "    M, h, action = simple_spec1.evaluate(x=x, xdot=xdot)\n",
    "    actions_10[i] = action\n",
    "    ob, _, _, _ = env.step(action)\n",
    "env.close()"
   ]
  },
  {
   "cell_type": "markdown",
   "id": "84fd3d6f-c24f-4bf7-ab6b-993b6beee54b",
   "metadata": {},
   "source": [
    "#### 2. Visualize the trajectories"
   ]
  },
  {
   "cell_type": "code",
   "execution_count": 9,
   "id": "a76efcc8",
   "metadata": {},
   "outputs": [
    {
     "data": {
      "image/png": "[encoded data removed]",
      "text/plain": [
       "<Figure size 640x480 with 1 Axes>"
      ]
     },
     "metadata": {},
     "output_type": "display_data"
    }
   ],
   "source": [
    "import matplotlib.pyplot as plt\n",
    "#fig, axs = plt.subplots(1, 1)\n",
    "#for m, subplot in np.ndenumerate(axs):\n",
    "#    subplot.set_xlim(-4, 4)\n",
    "#    subplot.set_ylim(-6, 6)\n",
    "\n",
    "# Baseline + 10 obstacles spec\n",
    "fig, axs = plt.subplots(1, 1)\n",
    "axs.plot(positions_10[:,0], positions_10[:,1])\n",
    "#axs.axis('equal')\n",
    "axs.set_xlim(-4,4)\n",
    "axs.set_ylim(-6,6)\n",
    "initial_location = plt.Circle((positions_10[:,0][0], positions_10[:,1][0]), radius=0.05, color='y')\n",
    "\n",
    "obst1 = plt.Circle(obstacle1.position(), radius=obstacle1.radius(), color='r')\n",
    "axs.add_patch(obst1)\n",
    "obst2 = plt.Circle(obstacle2.position(), radius=obstacle2.radius(), color='r')\n",
    "axs.add_patch(obst2)\n",
    "obst3 = plt.Circle(obstacle3.position(), radius=obstacle3.radius(), color='r')\n",
    "axs.add_patch(obst3)\n",
    "obst4 = plt.Circle(obstacle4.position(), radius=obstacle4.radius(), color='r')\n",
    "axs.add_patch(obst4)\n",
    "obst5 = plt.Circle(obstacle5.position(), radius=obstacle5.radius(), color='r')\n",
    "axs.add_patch(obst5)\n",
    "obst6 = plt.Circle(obstacle6.position(), radius=obstacle6.radius(), color='r')\n",
    "axs.add_patch(obst6)\n",
    "obst7 = plt.Circle(obstacle7.position(), radius=obstacle7.radius(), color='r')\n",
    "axs.add_patch(obst7)\n",
    "obst8 = plt.Circle(obstacle8.position(), radius=obstacle8.radius(), color='r')\n",
    "axs.add_patch(obst8)\n",
    "obst9 = plt.Circle(obstacle9.position(), radius=obstacle9.radius(), color='r')\n",
    "axs.add_patch(obst9)\n",
    "obst10 = plt.Circle(obstacle10.position(), radius=obstacle10.radius(), color='r')\n",
    "axs.add_patch(obst10)\n",
    "\n",
    "axs.add_patch(initial_location)\n",
    "plt.show()\n",
    "\n",
    "#x_1_obs_last = np.array((positions_1[:,0][-1], positions_1[:,1][-1]))\n",
    "x_10_obs_last = np.array((positions_10[:,0][-1], positions_10[:,1][-1]))"
   ]
  },
  {
   "cell_type": "code",
   "execution_count": 10,
   "id": "32cc8a6a",
   "metadata": {},
   "outputs": [
    {
     "name": "stdout",
     "output_type": "stream",
     "text": [
      "Last position 10 obstacles : [-1.25814378 12.90524194]\n",
      "--------------------------------------------------------\n",
      "Last action 10 obstacles   : [-0.01651256  0.09282222]\n",
      "--------------------------------------------------------\n",
      "Action 10, 10 obstacles   : [-0.2142092  0.116314 ]\n",
      "--------------------------------------------------------\n",
      "Average action 10 obstacles : [-0.14457252  0.19830385]\n",
      "--------------------------------------------------------\n",
      "0.026865665746930247\n"
     ]
    }
   ],
   "source": [
    "print(f\"Last position 10 obstacles : {x_10_obs_last}\")\n",
    "print(\"--------------------------------------------------------\")\n",
    "print(f\"Last action 10 obstacles   : {actions_10[-1]}\")\n",
    "print(\"--------------------------------------------------------\")\n",
    "print(f\"Action 10, 10 obstacles   : {actions_10[10]}\")\n",
    "print(\"--------------------------------------------------------\")\n",
    "print(f\"Average action 10 obstacles : {np.average((actions_10), axis=0)}\")\n",
    "print(\"--------------------------------------------------------\")\n",
    "print(np.mean(actions_10))"
   ]
  },
  {
   "cell_type": "code",
   "execution_count": null,
   "id": "27fea5d5",
   "metadata": {},
   "outputs": [],
   "source": []
  }
 ],
 "metadata": {
  "kernelspec": {
   "display_name": "Python 3 (ipykernel)",
   "language": "python",
   "name": "python3"
  },
  "language_info": {
   "codemirror_mode": {
    "name": "ipython",
    "version": 3
   },
   "file_extension": ".py",
   "mimetype": "text/x-python",
   "name": "python",
   "nbconvert_exporter": "python",
   "pygments_lexer": "ipython3",
   "version": "3.8.10"
  }
 },
 "nbformat": 4,
 "nbformat_minor": 5
}
